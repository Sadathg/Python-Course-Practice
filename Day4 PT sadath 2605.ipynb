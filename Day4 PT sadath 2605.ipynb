{
 "cells": [
  {
   "cell_type": "code",
   "execution_count": 15,
   "id": "766cdd77",
   "metadata": {},
   "outputs": [],
   "source": [
    "cars=['suzuki','kia','tata','audi','bmw','landrover','benz']"
   ]
  },
  {
   "cell_type": "code",
   "execution_count": 16,
   "id": "70ec21c8",
   "metadata": {},
   "outputs": [
    {
     "name": "stdout",
     "output_type": "stream",
     "text": [
      "['suzuki', 'kia', 'tata', 'audi', 'bmw', 'landrover', 'benz']\n"
     ]
    }
   ],
   "source": [
    "print(cars)"
   ]
  },
  {
   "cell_type": "code",
   "execution_count": 17,
   "id": "94f36823",
   "metadata": {},
   "outputs": [
    {
     "name": "stdout",
     "output_type": "stream",
     "text": [
      "['audi', 'benz', 'bmw', 'kia', 'landrover', 'suzuki', 'tata']\n"
     ]
    }
   ],
   "source": [
    "print((sorted((cars))))"
   ]
  },
  {
   "cell_type": "code",
   "execution_count": 10,
   "id": "659084c7",
   "metadata": {},
   "outputs": [],
   "source": [
    "cars.sort()"
   ]
  },
  {
   "cell_type": "code",
   "execution_count": 18,
   "id": "e77494cb",
   "metadata": {},
   "outputs": [
    {
     "name": "stdout",
     "output_type": "stream",
     "text": [
      "['suzuki', 'kia', 'tata', 'audi', 'bmw', 'landrover', 'benz']\n"
     ]
    }
   ],
   "source": [
    "print(cars)"
   ]
  },
  {
   "cell_type": "code",
   "execution_count": 13,
   "id": "f67fa52d",
   "metadata": {},
   "outputs": [],
   "source": [
    "cars.reverse()"
   ]
  },
  {
   "cell_type": "code",
   "execution_count": 19,
   "id": "5d87b977",
   "metadata": {},
   "outputs": [
    {
     "name": "stdout",
     "output_type": "stream",
     "text": [
      "['suzuki', 'kia', 'tata', 'audi', 'bmw', 'landrover', 'benz']\n"
     ]
    }
   ],
   "source": [
    "print(cars)"
   ]
  },
  {
   "cell_type": "code",
   "execution_count": null,
   "id": "f4c1af2e",
   "metadata": {},
   "outputs": [],
   "source": []
  },
  {
   "cell_type": "code",
   "execution_count": 20,
   "id": "2905c688",
   "metadata": {},
   "outputs": [],
   "source": [
    "cars = ['audi','benz','bmw','kia','landrover','suzuki','tata','toyota']"
   ]
  },
  {
   "cell_type": "code",
   "execution_count": 2,
   "id": "c4b18f30",
   "metadata": {},
   "outputs": [
    {
     "name": "stdout",
     "output_type": "stream",
     "text": [
      "['audi', 'benz', 'bmw', 'kia', 'landrover', 'suzuki', 'tata', 'toyota']\n"
     ]
    }
   ],
   "source": [
    "print(cars)"
   ]
  },
  {
   "cell_type": "code",
   "execution_count": 6,
   "id": "74876244",
   "metadata": {},
   "outputs": [
    {
     "data": {
      "text/plain": [
       "8"
      ]
     },
     "execution_count": 6,
     "metadata": {},
     "output_type": "execute_result"
    }
   ],
   "source": [
    "len(cars)"
   ]
  },
  {
   "cell_type": "code",
   "execution_count": 7,
   "id": "b1b106e3",
   "metadata": {},
   "outputs": [],
   "source": [
    "\n",
    "#Introduction to slicing of list "
   ]
  },
  {
   "cell_type": "code",
   "execution_count": 9,
   "id": "a0f807b8",
   "metadata": {},
   "outputs": [],
   "source": [
    "# Note1: Last value is always exclusive\n",
    "#Note2:So, to include the last value need to increment by 1\n"
   ]
  },
  {
   "cell_type": "code",
   "execution_count": 12,
   "id": "32a9214a",
   "metadata": {},
   "outputs": [],
   "source": [
    "students = ['kiran','kumar','mehreen','divya','naveen','abdul','david','karthik']"
   ]
  },
  {
   "cell_type": "code",
   "execution_count": 13,
   "id": "7c74de38",
   "metadata": {},
   "outputs": [
    {
     "name": "stdout",
     "output_type": "stream",
     "text": [
      "['kiran']\n"
     ]
    }
   ],
   "source": [
    "print(students[0:1])"
   ]
  },
  {
   "cell_type": "code",
   "execution_count": 14,
   "id": "27cd4d30",
   "metadata": {},
   "outputs": [
    {
     "name": "stdout",
     "output_type": "stream",
     "text": [
      "['kiran', 'kumar']\n"
     ]
    }
   ],
   "source": [
    "print(students[0:2])"
   ]
  },
  {
   "cell_type": "code",
   "execution_count": 15,
   "id": "d6dbe63d",
   "metadata": {},
   "outputs": [
    {
     "name": "stdout",
     "output_type": "stream",
     "text": [
      "['mehreen', 'divya']\n"
     ]
    }
   ],
   "source": [
    "print(students[2:4])"
   ]
  },
  {
   "cell_type": "code",
   "execution_count": 16,
   "id": "8b785eaa",
   "metadata": {},
   "outputs": [
    {
     "name": "stdout",
     "output_type": "stream",
     "text": [
      "['naveen', 'abdul', 'david', 'karthik']\n"
     ]
    }
   ],
   "source": [
    "print(students[4:8])"
   ]
  },
  {
   "cell_type": "code",
   "execution_count": 17,
   "id": "797409c8",
   "metadata": {},
   "outputs": [
    {
     "name": "stdout",
     "output_type": "stream",
     "text": [
      "['david', 'karthik']\n"
     ]
    }
   ],
   "source": [
    "print(students[6:8])"
   ]
  },
  {
   "cell_type": "code",
   "execution_count": 18,
   "id": "efad8c96",
   "metadata": {},
   "outputs": [
    {
     "name": "stdout",
     "output_type": "stream",
     "text": [
      "['kumar', 'mehreen', 'divya', 'naveen', 'abdul', 'david']\n"
     ]
    }
   ],
   "source": [
    "print(students[1:7])"
   ]
  },
  {
   "cell_type": "code",
   "execution_count": null,
   "id": "c40ff14b",
   "metadata": {},
   "outputs": [],
   "source": []
  }
 ],
 "metadata": {
  "kernelspec": {
   "display_name": "Python 3",
   "language": "python",
   "name": "python3"
  },
  "language_info": {
   "codemirror_mode": {
    "name": "ipython",
    "version": 3
   },
   "file_extension": ".py",
   "mimetype": "text/x-python",
   "name": "python",
   "nbconvert_exporter": "python",
   "pygments_lexer": "ipython3",
   "version": "3.8.8"
  }
 },
 "nbformat": 4,
 "nbformat_minor": 5
}
