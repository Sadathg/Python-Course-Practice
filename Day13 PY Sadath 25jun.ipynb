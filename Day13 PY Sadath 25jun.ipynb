{
 "cells": [
  {
   "cell_type": "code",
   "execution_count": 4,
   "id": "33d79914",
   "metadata": {},
   "outputs": [
    {
     "ename": "SyntaxError",
     "evalue": "invalid syntax (<ipython-input-4-5903a439b528>, line 1)",
     "output_type": "error",
     "traceback": [
      "\u001b[1;36m  File \u001b[1;32m\"<ipython-input-4-5903a439b528>\"\u001b[1;36m, line \u001b[1;32m1\u001b[0m\n\u001b[1;33m    Function continuations\u001b[0m\n\u001b[1;37m             ^\u001b[0m\n\u001b[1;31mSyntaxError\u001b[0m\u001b[1;31m:\u001b[0m invalid syntax\n"
     ]
    }
   ],
   "source": [
    "Function continuations:\n",
    "    def===> for defining function\n",
    "    >func call\n",
    "    >parameters\n",
    "    >argument\n",
    "\n",
    "Types of arguments studies:\n",
    "    >positional arguments\n",
    "    >keyword\n",
    "    >default"
   ]
  },
  {
   "cell_type": "code",
   "execution_count": null,
   "id": "093a67e0",
   "metadata": {},
   "outputs": [],
   "source": [
    "speculative arguments or kwargs:\n",
    "    #scenario we are group of 20 planning to have a pizza. Everyone has their own choice of toppings and kind \n",
    "    of pizza so how to construct a function"
   ]
  },
  {
   "cell_type": "code",
   "execution_count": null,
   "id": "31d5f3fb",
   "metadata": {},
   "outputs": [],
   "source": []
  },
  {
   "cell_type": "code",
   "execution_count": 1,
   "id": "bd4c7fb5",
   "metadata": {},
   "outputs": [],
   "source": [
    "# create a function of pizza which accepts all toppings as per the request of customers"
   ]
  },
  {
   "cell_type": "code",
   "execution_count": 2,
   "id": "781a504c",
   "metadata": {},
   "outputs": [],
   "source": [
    "def pizza(toppings):\n",
    "    '''creating a pizza func accepting the toppings'''\n",
    "    print(f\"you have ordered the {toppings} as toppings\")"
   ]
  },
  {
   "cell_type": "code",
   "execution_count": 5,
   "id": "a01a236a",
   "metadata": {},
   "outputs": [
    {
     "name": "stdout",
     "output_type": "stream",
     "text": [
      "you have ordered the corn as toppings\n"
     ]
    }
   ],
   "source": [
    "pizza('corn')"
   ]
  },
  {
   "cell_type": "code",
   "execution_count": 6,
   "id": "b977f492",
   "metadata": {},
   "outputs": [
    {
     "ename": "TypeError",
     "evalue": "pizza() takes 1 positional argument but 2 were given",
     "output_type": "error",
     "traceback": [
      "\u001b[1;31m---------------------------------------------------------------------------\u001b[0m",
      "\u001b[1;31mTypeError\u001b[0m                                 Traceback (most recent call last)",
      "\u001b[1;32m<ipython-input-6-530d7c358fff>\u001b[0m in \u001b[0;36m<module>\u001b[1;34m\u001b[0m\n\u001b[1;32m----> 1\u001b[1;33m \u001b[0mpizza\u001b[0m\u001b[1;33m(\u001b[0m\u001b[1;34m'corn'\u001b[0m\u001b[1;33m,\u001b[0m\u001b[1;34m'olive'\u001b[0m\u001b[1;33m)\u001b[0m\u001b[1;33m\u001b[0m\u001b[1;33m\u001b[0m\u001b[0m\n\u001b[0m",
      "\u001b[1;31mTypeError\u001b[0m: pizza() takes 1 positional argument but 2 were given"
     ]
    }
   ],
   "source": [
    "pizza('corn','olive')"
   ]
  },
  {
   "cell_type": "code",
   "execution_count": null,
   "id": "29295b89",
   "metadata": {},
   "outputs": [],
   "source": [
    "so to accept multiple arguments (or toppings in use case) following needs to be done"
   ]
  },
  {
   "cell_type": "code",
   "execution_count": 7,
   "id": "998622e6",
   "metadata": {},
   "outputs": [],
   "source": [
    "def pizza(*toppings):                       # adding * as prefix==> this is called as speculative or arbitrary arguments\n",
    "    '''creating a pizza func accepting the toppings'''\n",
    "    print(f\"you have ordered the {toppings} as toppings\")"
   ]
  },
  {
   "cell_type": "code",
   "execution_count": 8,
   "id": "6eee35ea",
   "metadata": {},
   "outputs": [
    {
     "name": "stdout",
     "output_type": "stream",
     "text": [
      "you have ordered the ('corn', 'olive') as toppings\n"
     ]
    }
   ],
   "source": [
    "pizza('corn','olive')"
   ]
  },
  {
   "cell_type": "code",
   "execution_count": 9,
   "id": "1c152f6c",
   "metadata": {},
   "outputs": [
    {
     "name": "stdout",
     "output_type": "stream",
     "text": [
      "you have ordered the ('corn', 'olive', 'capsi') as toppings\n"
     ]
    }
   ],
   "source": [
    "pizza('corn','olive', 'capsi')"
   ]
  },
  {
   "cell_type": "code",
   "execution_count": null,
   "id": "29da66d5",
   "metadata": {},
   "outputs": [],
   "source": []
  },
  {
   "cell_type": "code",
   "execution_count": null,
   "id": "b97852b2",
   "metadata": {},
   "outputs": [],
   "source": [
    "Return values : "
   ]
  },
  {
   "cell_type": "code",
   "execution_count": null,
   "id": "7fdeefe5",
   "metadata": {},
   "outputs": [],
   "source": [
    "#req : To get the fully formatted name"
   ]
  },
  {
   "cell_type": "code",
   "execution_count": 13,
   "id": "b8766947",
   "metadata": {},
   "outputs": [],
   "source": [
    "def get_formatted_name(first_name, last_name):\n",
    "    '''return a fully formatted name'''\n",
    "    full_name = f\"{first_name} {last_name}\"\n",
    "    return full_name.title()"
   ]
  },
  {
   "cell_type": "code",
   "execution_count": 14,
   "id": "cd4377db",
   "metadata": {},
   "outputs": [
    {
     "name": "stdout",
     "output_type": "stream",
     "text": [
      "Rohit Pota\n"
     ]
    }
   ],
   "source": [
    "x = get_formatted_name('rohit', 'pota')\n",
    "print(x)"
   ]
  },
  {
   "cell_type": "code",
   "execution_count": null,
   "id": "e0e9398a",
   "metadata": {},
   "outputs": [],
   "source": [
    "\n",
    "\n",
    "Introduction to python classes\n",
    "\n",
    ">class\n",
    ">method\n",
    ">attribute\n",
    ">self\n",
    ">object"
   ]
  },
  {
   "cell_type": "code",
   "execution_count": null,
   "id": "9e015ff1",
   "metadata": {},
   "outputs": [],
   "source": [
    "class===> A class is a high level blueprint of the program\n",
    "class is a keyword used to defining the class and we have to use title case for declaring the class name\n"
   ]
  },
  {
   "cell_type": "code",
   "execution_count": null,
   "id": "ca82c114",
   "metadata": {},
   "outputs": [],
   "source": [
    "method===>Function written inside a class is called as a method"
   ]
  },
  {
   "cell_type": "code",
   "execution_count": null,
   "id": "e2fe0176",
   "metadata": {},
   "outputs": [],
   "source": [
    "attribute===> A variable written inside a class is called as a attribute"
   ]
  },
  {
   "cell_type": "code",
   "execution_count": null,
   "id": "44739bdf",
   "metadata": {},
   "outputs": [],
   "source": [
    "self===> A self is a temp place holder for an object"
   ]
  },
  {
   "cell_type": "code",
   "execution_count": null,
   "id": "da003707",
   "metadata": {},
   "outputs": [],
   "source": [
    "object===> An object is an entry/access point to the class methods===> with out this we cannot access the class methods"
   ]
  },
  {
   "cell_type": "code",
   "execution_count": null,
   "id": "89215af4",
   "metadata": {},
   "outputs": [],
   "source": []
  },
  {
   "cell_type": "code",
   "execution_count": null,
   "id": "dc02e91b",
   "metadata": {},
   "outputs": [],
   "source": []
  },
  {
   "cell_type": "code",
   "execution_count": null,
   "id": "4207f4aa",
   "metadata": {},
   "outputs": [],
   "source": []
  },
  {
   "cell_type": "code",
   "execution_count": null,
   "id": "dc9abb3e",
   "metadata": {},
   "outputs": [],
   "source": []
  },
  {
   "cell_type": "code",
   "execution_count": null,
   "id": "c9f07e50",
   "metadata": {},
   "outputs": [],
   "source": []
  },
  {
   "cell_type": "code",
   "execution_count": null,
   "id": "70e75070",
   "metadata": {},
   "outputs": [],
   "source": []
  }
 ],
 "metadata": {
  "kernelspec": {
   "display_name": "Python 3",
   "language": "python",
   "name": "python3"
  },
  "language_info": {
   "codemirror_mode": {
    "name": "ipython",
    "version": 3
   },
   "file_extension": ".py",
   "mimetype": "text/x-python",
   "name": "python",
   "nbconvert_exporter": "python",
   "pygments_lexer": "ipython3",
   "version": "3.8.8"
  }
 },
 "nbformat": 4,
 "nbformat_minor": 5
}
