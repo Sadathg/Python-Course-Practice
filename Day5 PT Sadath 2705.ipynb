{
 "cells": [
  {
   "cell_type": "code",
   "execution_count": 3,
   "id": "5f2b564c",
   "metadata": {},
   "outputs": [],
   "source": [
    "Students = ['sampath', 'afsha','aftab','naveen','divya','harika' ]\n"
   ]
  },
  {
   "cell_type": "code",
   "execution_count": 4,
   "id": "a7f1e598",
   "metadata": {},
   "outputs": [
    {
     "name": "stdout",
     "output_type": "stream",
     "text": [
      "['sampath', 'afsha', 'aftab', 'naveen', 'divya', 'harika']\n"
     ]
    }
   ],
   "source": [
    "print (Students)"
   ]
  },
  {
   "cell_type": "code",
   "execution_count": 8,
   "id": "08bc33c2",
   "metadata": {},
   "outputs": [
    {
     "name": "stdout",
     "output_type": "stream",
     "text": [
      "keep up the good work, Afsha\n"
     ]
    }
   ],
   "source": [
    "print (f\"keep up the good work, {Students[1].title()}\")"
   ]
  },
  {
   "cell_type": "code",
   "execution_count": 10,
   "id": "27e4b36e",
   "metadata": {},
   "outputs": [
    {
     "name": "stdout",
     "output_type": "stream",
     "text": [
      "keep up the good work, Aftab\n"
     ]
    }
   ],
   "source": [
    "print(f\"keep up the good work, {Students[2].title()}\")"
   ]
  },
  {
   "cell_type": "code",
   "execution_count": 16,
   "id": "838e45c0",
   "metadata": {},
   "outputs": [
    {
     "name": "stdout",
     "output_type": "stream",
     "text": [
      "Keep up the good work, Sampath\n",
      "Keep up the good work, Afsha\n",
      "Keep up the good work, Aftab\n",
      "Keep up the good work, Naveen\n",
      "Keep up the good work, Divya\n",
      "Keep up the good work, Harika\n"
     ]
    }
   ],
   "source": [
    "for x in Students:\n",
    "    print(f\"Keep up the good work, {x.title()}\")"
   ]
  },
  {
   "cell_type": "code",
   "execution_count": 21,
   "id": "c068ffed",
   "metadata": {},
   "outputs": [
    {
     "name": "stdout",
     "output_type": "stream",
     "text": [
      "Keep up the good work, Sampath\n",
      "Keep up the good work, Afsha\n",
      "Keep up the good work, Aftab\n",
      "Keep up the good work, Naveen\n",
      "Keep up the good work, Divya\n",
      "Keep up the good work, Harika\n"
     ]
    }
   ],
   "source": [
    "for batman in Students:\n",
    "    print(f\"Keep up the good work, {batman.title()}\")"
   ]
  },
  {
   "cell_type": "code",
   "execution_count": 22,
   "id": "029ec578",
   "metadata": {},
   "outputs": [
    {
     "name": "stdout",
     "output_type": "stream",
     "text": [
      "keep up the good work, Sampath\n",
      "I am looking forward to receive the practice file of today, Sampath\n",
      "keep up the good work, Afsha\n",
      "I am looking forward to receive the practice file of today, Afsha\n",
      "keep up the good work, Aftab\n",
      "I am looking forward to receive the practice file of today, Aftab\n",
      "keep up the good work, Naveen\n",
      "I am looking forward to receive the practice file of today, Naveen\n",
      "keep up the good work, Divya\n",
      "I am looking forward to receive the practice file of today, Divya\n",
      "keep up the good work, Harika\n",
      "I am looking forward to receive the practice file of today, Harika\n"
     ]
    }
   ],
   "source": [
    "for x in Students:\n",
    "    print(f\"keep up the good work, {x.title()}\")\n",
    "    print(f\"I am looking forward to receive the practice file of today, {x.title()}\")"
   ]
  },
  {
   "cell_type": "code",
   "execution_count": 39,
   "id": "317e380f",
   "metadata": {},
   "outputs": [
    {
     "name": "stdout",
     "output_type": "stream",
     "text": [
      "keep up the good work, Sampath\n",
      "I am looking forward to receive the practice file of today, Sampath.\n",
      "\n",
      "keep up the good work, Afsha\n",
      "I am looking forward to receive the practice file of today, Afsha.\n",
      "\n",
      "keep up the good work, Aftab\n",
      "I am looking forward to receive the practice file of today, Aftab.\n",
      "\n",
      "keep up the good work, Naveen\n",
      "I am looking forward to receive the practice file of today, Naveen.\n",
      "\n",
      "keep up the good work, Divya\n",
      "I am looking forward to receive the practice file of today, Divya.\n",
      "\n",
      "keep up the good work, Harika\n",
      "I am looking forward to receive the practice file of today, Harika.\n",
      "\n",
      "Thank you all for attending session for today\n"
     ]
    }
   ],
   "source": [
    "for x in Students:\n",
    "    print (f\"keep up the good work, {x.title()}\")\n",
    "    print(f\"I am looking forward to receive the practice file of today, {x.title()}.\\n\")\n",
    "print(\"Thank you all for attending session for today\")"
   ]
  },
  {
   "cell_type": "code",
   "execution_count": 41,
   "id": "c6f59fb3",
   "metadata": {
    "scrolled": true
   },
   "outputs": [
    {
     "name": "stdout",
     "output_type": "stream",
     "text": [
      "['sampath', 'afsha', 'aftab', 'naveen', 'divya', 'harika']\n"
     ]
    }
   ],
   "source": [
    "print (Students)"
   ]
  },
  {
   "cell_type": "code",
   "execution_count": 42,
   "id": "7e538ba2",
   "metadata": {},
   "outputs": [],
   "source": [
    "import this"
   ]
  }
 ],
 "metadata": {
  "kernelspec": {
   "display_name": "Python 3",
   "language": "python",
   "name": "python3"
  },
  "language_info": {
   "codemirror_mode": {
    "name": "ipython",
    "version": 3
   },
   "file_extension": ".py",
   "mimetype": "text/x-python",
   "name": "python",
   "nbconvert_exporter": "python",
   "pygments_lexer": "ipython3",
   "version": "3.8.8"
  }
 },
 "nbformat": 4,
 "nbformat_minor": 5
}
