{
 "cells": [
  {
   "cell_type": "code",
   "execution_count": 3,
   "id": "766cdd77",
   "metadata": {},
   "outputs": [],
   "source": [
    "cars=['suzuki','kia','tata','audi','bmw','landrover','benz']"
   ]
  },
  {
   "cell_type": "code",
   "execution_count": 4,
   "id": "70ec21c8",
   "metadata": {},
   "outputs": [
    {
     "name": "stdout",
     "output_type": "stream",
     "text": [
      "['suzuki', 'kia', 'tata', 'audi', 'bmw', 'landrover', 'benz']\n"
     ]
    }
   ],
   "source": [
    "print(cars)"
   ]
  },
  {
   "cell_type": "code",
   "execution_count": 5,
   "id": "f45eb3fa",
   "metadata": {},
   "outputs": [],
   "source": [
    "cars.sort()"
   ]
  },
  {
   "cell_type": "code",
   "execution_count": 6,
   "id": "c4b18f30",
   "metadata": {},
   "outputs": [
    {
     "name": "stdout",
     "output_type": "stream",
     "text": [
      "['audi', 'benz', 'bmw', 'kia', 'landrover', 'suzuki', 'tata']\n"
     ]
    }
   ],
   "source": [
    "print(cars)"
   ]
  },
  {
   "cell_type": "code",
   "execution_count": 6,
   "id": "74876244",
   "metadata": {
    "scrolled": true
   },
   "outputs": [
    {
     "data": {
      "text/plain": [
       "8"
      ]
     },
     "execution_count": 6,
     "metadata": {},
     "output_type": "execute_result"
    }
   ],
   "source": [
    "len(cars)"
   ]
  },
  {
   "cell_type": "code",
   "execution_count": 7,
   "id": "96dab570",
   "metadata": {},
   "outputs": [],
   "source": [
    "cars.reverse()"
   ]
  },
  {
   "cell_type": "code",
   "execution_count": 8,
   "id": "5ef7de9f",
   "metadata": {},
   "outputs": [
    {
     "name": "stdout",
     "output_type": "stream",
     "text": [
      "['tata', 'suzuki', 'landrover', 'kia', 'bmw', 'benz', 'audi']\n"
     ]
    }
   ],
   "source": [
    "print(cars)"
   ]
  },
  {
   "cell_type": "code",
   "execution_count": null,
   "id": "0c70ddda",
   "metadata": {},
   "outputs": [],
   "source": []
  },
  {
   "cell_type": "code",
   "execution_count": 7,
   "id": "b1b106e3",
   "metadata": {},
   "outputs": [],
   "source": [
    "\n",
    "#Introduction to slicing of list "
   ]
  },
  {
   "cell_type": "code",
   "execution_count": 9,
   "id": "a0f807b8",
   "metadata": {},
   "outputs": [],
   "source": [
    "# Note1: Last value is always exclusive\n",
    "#Note2:So, to include the last value need to increment by 1\n"
   ]
  },
  {
   "cell_type": "code",
   "execution_count": 12,
   "id": "32a9214a",
   "metadata": {},
   "outputs": [],
   "source": [
    "students = ['kiran','kumar','mehreen','divya','naveen','abdul','david','karthik']"
   ]
  },
  {
   "cell_type": "code",
   "execution_count": 13,
   "id": "7c74de38",
   "metadata": {},
   "outputs": [
    {
     "name": "stdout",
     "output_type": "stream",
     "text": [
      "['kiran']\n"
     ]
    }
   ],
   "source": [
    "print(students[0:1])"
   ]
  },
  {
   "cell_type": "code",
   "execution_count": 14,
   "id": "27cd4d30",
   "metadata": {},
   "outputs": [
    {
     "name": "stdout",
     "output_type": "stream",
     "text": [
      "['kiran', 'kumar']\n"
     ]
    }
   ],
   "source": [
    "print(students[0:2])"
   ]
  },
  {
   "cell_type": "code",
   "execution_count": 15,
   "id": "d6dbe63d",
   "metadata": {},
   "outputs": [
    {
     "name": "stdout",
     "output_type": "stream",
     "text": [
      "['mehreen', 'divya']\n"
     ]
    }
   ],
   "source": [
    "print(students[2:4])"
   ]
  },
  {
   "cell_type": "code",
   "execution_count": 16,
   "id": "8b785eaa",
   "metadata": {},
   "outputs": [
    {
     "name": "stdout",
     "output_type": "stream",
     "text": [
      "['naveen', 'abdul', 'david', 'karthik']\n"
     ]
    }
   ],
   "source": [
    "print(students[4:8])"
   ]
  },
  {
   "cell_type": "code",
   "execution_count": 17,
   "id": "797409c8",
   "metadata": {},
   "outputs": [
    {
     "name": "stdout",
     "output_type": "stream",
     "text": [
      "['david', 'karthik']\n"
     ]
    }
   ],
   "source": [
    "print(students[6:8])"
   ]
  },
  {
   "cell_type": "code",
   "execution_count": 18,
   "id": "efad8c96",
   "metadata": {
    "scrolled": false
   },
   "outputs": [
    {
     "name": "stdout",
     "output_type": "stream",
     "text": [
      "['kumar', 'mehreen', 'divya', 'naveen', 'abdul', 'david']\n"
     ]
    }
   ],
   "source": [
    "print(students[1:7])"
   ]
  },
  {
   "cell_type": "code",
   "execution_count": null,
   "id": "528e9670",
   "metadata": {},
   "outputs": [],
   "source": []
  },
  {
   "cell_type": "code",
   "execution_count": null,
   "id": "756277b4",
   "metadata": {},
   "outputs": [],
   "source": []
  },
  {
   "cell_type": "code",
   "execution_count": 1,
   "id": "c40ff14b",
   "metadata": {},
   "outputs": [],
   "source": [
    "#---------------------------------------------------Day 4 Repeat class------------------------------#"
   ]
  },
  {
   "cell_type": "code",
   "execution_count": null,
   "id": "fa9a9bad",
   "metadata": {},
   "outputs": [],
   "source": []
  },
  {
   "cell_type": "code",
   "execution_count": null,
   "id": "96aa3ace",
   "metadata": {},
   "outputs": [],
   "source": []
  },
  {
   "cell_type": "code",
   "execution_count": null,
   "id": "a8d002ac",
   "metadata": {},
   "outputs": [],
   "source": [
    "List It is collection of items defined in a perticular order, It is mutable \n"
   ]
  },
  {
   "cell_type": "code",
   "execution_count": 28,
   "id": "848e049b",
   "metadata": {},
   "outputs": [],
   "source": [
    "students = ['arun', 'naveed','kiran','farhana','ashwini','senthil','gulafsha']\n",
    "\n",
    "#arun=0 , ashwini=4, gulafsha=6"
   ]
  },
  {
   "cell_type": "code",
   "execution_count": 29,
   "id": "6426d430",
   "metadata": {},
   "outputs": [
    {
     "data": {
      "text/plain": [
       "['arun', 'naveed', 'kiran', 'farhana', 'ashwini', 'senthil', 'gulafsha']"
      ]
     },
     "execution_count": 29,
     "metadata": {},
     "output_type": "execute_result"
    }
   ],
   "source": [
    "students"
   ]
  },
  {
   "cell_type": "code",
   "execution_count": 4,
   "id": "9a5aa850",
   "metadata": {},
   "outputs": [
    {
     "name": "stdout",
     "output_type": "stream",
     "text": [
      "['arun', 'naveed', 'kiran', 'farhana', 'ashwini', 'senthil', 'gulafsha']\n"
     ]
    }
   ],
   "source": [
    "print(students)"
   ]
  },
  {
   "cell_type": "code",
   "execution_count": 5,
   "id": "f438a353",
   "metadata": {},
   "outputs": [
    {
     "data": {
      "text/plain": [
       "list"
      ]
     },
     "execution_count": 5,
     "metadata": {},
     "output_type": "execute_result"
    }
   ],
   "source": [
    "type(students)"
   ]
  },
  {
   "cell_type": "code",
   "execution_count": 6,
   "id": "1c67ea8e",
   "metadata": {},
   "outputs": [],
   "source": [
    "#???? How to access the elements from the list?????"
   ]
  },
  {
   "cell_type": "code",
   "execution_count": 7,
   "id": "e2cb9879",
   "metadata": {},
   "outputs": [
    {
     "data": {
      "text/plain": [
       "'kiran'"
      ]
     },
     "execution_count": 7,
     "metadata": {},
     "output_type": "execute_result"
    }
   ],
   "source": [
    "students[2]"
   ]
  },
  {
   "cell_type": "code",
   "execution_count": 9,
   "id": "672664b2",
   "metadata": {},
   "outputs": [
    {
     "name": "stdout",
     "output_type": "stream",
     "text": [
      "kiran\n"
     ]
    }
   ],
   "source": [
    "print(students[2])"
   ]
  },
  {
   "cell_type": "code",
   "execution_count": 11,
   "id": "d1f2d8a4",
   "metadata": {},
   "outputs": [
    {
     "name": "stdout",
     "output_type": "stream",
     "text": [
      "naveed\n"
     ]
    }
   ],
   "source": [
    "print(students[1])"
   ]
  },
  {
   "cell_type": "code",
   "execution_count": 14,
   "id": "fedca3e7",
   "metadata": {},
   "outputs": [
    {
     "name": "stdout",
     "output_type": "stream",
     "text": [
      "Naveed\n"
     ]
    }
   ],
   "source": [
    "#----------Nate: To correct even the format using title\n",
    "print(students[1].title())"
   ]
  },
  {
   "cell_type": "code",
   "execution_count": 18,
   "id": "c657b330",
   "metadata": {},
   "outputs": [
    {
     "name": "stdout",
     "output_type": "stream",
     "text": [
      "Gulafsha\n"
     ]
    }
   ],
   "source": [
    "print(students[6].title())"
   ]
  },
  {
   "cell_type": "code",
   "execution_count": 20,
   "id": "8c1e643e",
   "metadata": {},
   "outputs": [],
   "source": [
    "# \n",
    "#1. How to add new elements to the list\n",
    "#2. modify\n",
    "#3. delete"
   ]
  },
  {
   "cell_type": "code",
   "execution_count": 33,
   "id": "9cdc349a",
   "metadata": {},
   "outputs": [],
   "source": [
    "#Addiinf prasad to the list\n",
    "\n",
    "students.append('prasad')"
   ]
  },
  {
   "cell_type": "code",
   "execution_count": 34,
   "id": "1278091b",
   "metadata": {},
   "outputs": [],
   "source": [
    "students.append('sadath')"
   ]
  },
  {
   "cell_type": "code",
   "execution_count": 30,
   "id": "dd49bb9e",
   "metadata": {},
   "outputs": [
    {
     "data": {
      "text/plain": [
       "['arun', 'naveed', 'kiran', 'farhana', 'ashwini', 'senthil', 'gulafsha']"
      ]
     },
     "execution_count": 30,
     "metadata": {},
     "output_type": "execute_result"
    }
   ],
   "source": [
    "students"
   ]
  },
  {
   "cell_type": "code",
   "execution_count": 31,
   "id": "55a20842",
   "metadata": {},
   "outputs": [],
   "source": [
    "#Adding elements at custom places adding keerthi at second place\n",
    "students.insert(2,'keerthi')"
   ]
  },
  {
   "cell_type": "code",
   "execution_count": 60,
   "id": "ed132c65",
   "metadata": {},
   "outputs": [],
   "source": [
    "students.insert(24,'keerthi')"
   ]
  },
  {
   "cell_type": "code",
   "execution_count": 48,
   "id": "4d1c0d50",
   "metadata": {},
   "outputs": [
    {
     "name": "stdout",
     "output_type": "stream",
     "text": [
      "['arun', 'naveed', 'keerthi', 'kiran', 'farhana', 'ashwini', 'senthil', 'gulafsha', 'prasad', 'sadath', 'keerthi', 'keerthi', 'keerthi', 'keerthi']\n"
     ]
    }
   ],
   "source": [
    "print(students)"
   ]
  },
  {
   "cell_type": "code",
   "execution_count": 49,
   "id": "a5314fde",
   "metadata": {},
   "outputs": [],
   "source": [
    "# I want to modify arun with Ram\n",
    "students[0] = 'ram'"
   ]
  },
  {
   "cell_type": "code",
   "execution_count": 50,
   "id": "ff12cb2a",
   "metadata": {},
   "outputs": [
    {
     "name": "stdout",
     "output_type": "stream",
     "text": [
      "['ram', 'naveed', 'keerthi', 'kiran', 'farhana', 'ashwini', 'senthil', 'gulafsha', 'prasad', 'sadath', 'keerthi', 'keerthi', 'keerthi', 'keerthi']\n"
     ]
    }
   ],
   "source": [
    "print(students)"
   ]
  },
  {
   "cell_type": "code",
   "execution_count": 52,
   "id": "f8082fc2",
   "metadata": {},
   "outputs": [],
   "source": [
    "students.remove('keerthi')"
   ]
  },
  {
   "cell_type": "code",
   "execution_count": 53,
   "id": "5ee75eea",
   "metadata": {},
   "outputs": [
    {
     "name": "stdout",
     "output_type": "stream",
     "text": [
      "['ram', 'naveed', 'kiran', 'farhana', 'ashwini', 'senthil', 'gulafsha', 'prasad', 'sadath', 'keerthi', 'keerthi', 'keerthi', 'keerthi']\n"
     ]
    }
   ],
   "source": [
    "print(students)"
   ]
  },
  {
   "cell_type": "code",
   "execution_count": 58,
   "id": "eb4c9e27",
   "metadata": {},
   "outputs": [
    {
     "data": {
      "text/plain": [
       "'keerthi'"
      ]
     },
     "execution_count": 58,
     "metadata": {},
     "output_type": "execute_result"
    }
   ],
   "source": [
    "students.pop()"
   ]
  },
  {
   "cell_type": "code",
   "execution_count": 61,
   "id": "d1e1bc5b",
   "metadata": {},
   "outputs": [
    {
     "name": "stdout",
     "output_type": "stream",
     "text": [
      "['ram', 'naveed', 'kiran', 'farhana', 'ashwini', 'senthil', 'gulafsha', 'prasad', 'sadath', 'keerthi']\n"
     ]
    }
   ],
   "source": [
    "print(students)"
   ]
  },
  {
   "cell_type": "code",
   "execution_count": 72,
   "id": "ae1613b7",
   "metadata": {},
   "outputs": [],
   "source": [
    "del students[9]"
   ]
  },
  {
   "cell_type": "code",
   "execution_count": 73,
   "id": "5d0f928e",
   "metadata": {
    "scrolled": true
   },
   "outputs": [
    {
     "name": "stdout",
     "output_type": "stream",
     "text": [
      "['ram', 'naveed', 'kiran', 'farhana', 'ashwini', 'senthil', 'gulafsha', 'prasad', 'sadath']\n"
     ]
    }
   ],
   "source": [
    "print(students)\n"
   ]
  },
  {
   "cell_type": "code",
   "execution_count": 74,
   "id": "c4b0d464",
   "metadata": {},
   "outputs": [],
   "source": [
    "# pop is used to delete the last value and return the deleted value\n",
    "x = students.pop()"
   ]
  },
  {
   "cell_type": "code",
   "execution_count": 75,
   "id": "4c7c7c80",
   "metadata": {
    "scrolled": true
   },
   "outputs": [
    {
     "name": "stdout",
     "output_type": "stream",
     "text": [
      "['ram', 'naveed', 'kiran', 'farhana', 'ashwini', 'senthil', 'gulafsha', 'prasad']\n"
     ]
    }
   ],
   "source": [
    "print(students)"
   ]
  },
  {
   "cell_type": "code",
   "execution_count": 76,
   "id": "c472e503",
   "metadata": {
    "scrolled": true
   },
   "outputs": [
    {
     "name": "stdout",
     "output_type": "stream",
     "text": [
      "sadath\n"
     ]
    }
   ],
   "source": [
    "print(x)"
   ]
  },
  {
   "cell_type": "code",
   "execution_count": null,
   "id": "883399ee",
   "metadata": {},
   "outputs": [],
   "source": []
  }
 ],
 "metadata": {
  "kernelspec": {
   "display_name": "Python 3",
   "language": "python",
   "name": "python3"
  },
  "language_info": {
   "codemirror_mode": {
    "name": "ipython",
    "version": 3
   },
   "file_extension": ".py",
   "mimetype": "text/x-python",
   "name": "python",
   "nbconvert_exporter": "python",
   "pygments_lexer": "ipython3",
   "version": "3.8.8"
  }
 },
 "nbformat": 4,
 "nbformat_minor": 5
}
