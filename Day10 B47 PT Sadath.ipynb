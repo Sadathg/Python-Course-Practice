{
 "cells": [
  {
   "cell_type": "code",
   "execution_count": 1,
   "id": "b0bcc419",
   "metadata": {},
   "outputs": [],
   "source": [
    "#Implementation of for lops on top of a dictionary\n",
    "\n",
    "user = {'username':'codetraining01','firstname':'code','lastname':'training01','dob':'01-01-2019', 'pwd':'54321'}\n"
   ]
  },
  {
   "cell_type": "code",
   "execution_count": 2,
   "id": "f7ab82de",
   "metadata": {},
   "outputs": [
    {
     "data": {
      "text/plain": [
       "dict"
      ]
     },
     "execution_count": 2,
     "metadata": {},
     "output_type": "execute_result"
    }
   ],
   "source": [
    "type(user)\n"
   ]
  },
  {
   "cell_type": "code",
   "execution_count": null,
   "id": "ec7baef3",
   "metadata": {},
   "outputs": [],
   "source": [
    "# general syntax\n",
    "for tempvar1,tempvar2 in user.items():\n",
    "    print(tempvar1)\n",
    "    print(tempvar2)"
   ]
  },
  {
   "cell_type": "code",
   "execution_count": 6,
   "id": "65cf3dbe",
   "metadata": {},
   "outputs": [
    {
     "name": "stdout",
     "output_type": "stream",
     "text": [
      "username\n",
      "codetraining01\n",
      "firstname\n",
      "code\n",
      "lastname\n",
      "training01\n",
      "dob\n",
      "01-01-2019\n",
      "pwd\n",
      "54321\n"
     ]
    }
   ],
   "source": [
    "for k,v in user.items():\n",
    "    print(k)\n",
    "    print(v)"
   ]
  },
  {
   "cell_type": "code",
   "execution_count": 7,
   "id": "ced61555",
   "metadata": {},
   "outputs": [
    {
     "name": "stdout",
     "output_type": "stream",
     "text": [
      "key:username\n",
      "value:codetraining01\n",
      "\n",
      "key:firstname\n",
      "value:code\n",
      "\n",
      "key:lastname\n",
      "value:training01\n",
      "\n",
      "key:dob\n",
      "value:01-01-2019\n",
      "\n",
      "key:pwd\n",
      "value:54321\n",
      "\n"
     ]
    }
   ],
   "source": [
    "# Enhancement of the code\n",
    "\n",
    "for x,y in user.items():\n",
    "    print(f\"key:{x}\")\n",
    "    print(f\"value:{y}\\n\")"
   ]
  },
  {
   "cell_type": "code",
   "execution_count": 9,
   "id": "f8f4d919",
   "metadata": {},
   "outputs": [
    {
     "name": "stdout",
     "output_type": "stream",
     "text": [
      "key:username\n",
      "key:firstname\n",
      "key:lastname\n",
      "key:dob\n",
      "key:pwd\n"
     ]
    }
   ],
   "source": [
    "# req we need only keys to be displayed\n",
    "\n",
    "for x in user.keys():\n",
    "    print(f\"key:{x}\")"
   ]
  },
  {
   "cell_type": "code",
   "execution_count": 13,
   "id": "6162f0f8",
   "metadata": {},
   "outputs": [
    {
     "name": "stdout",
     "output_type": "stream",
     "text": [
      "Values:codetraining01\n",
      "Values:code\n",
      "Values:training01\n",
      "Values:01-01-2019\n",
      "Values:54321\n"
     ]
    }
   ],
   "source": [
    "# req we need only values to be displayed\n",
    "\n",
    "for y in user.values():\n",
    "    print(f\"Values:{y}\")"
   ]
  },
  {
   "cell_type": "code",
   "execution_count": 14,
   "id": "eff81c93",
   "metadata": {},
   "outputs": [],
   "source": [
    "\n",
    "\n",
    "# User accepted input\n",
    "#Input is the function that we will be using for accepting input from users\n",
    "\n"
   ]
  },
  {
   "cell_type": "code",
   "execution_count": 16,
   "id": "9eababf2",
   "metadata": {},
   "outputs": [
    {
     "name": "stdout",
     "output_type": "stream",
     "text": [
      "Tell me something i will repeat back to you how are you\n"
     ]
    }
   ],
   "source": [
    "message=input(\"Tell me something i will repeat back to you \")"
   ]
  },
  {
   "cell_type": "code",
   "execution_count": 21,
   "id": "43534c7e",
   "metadata": {},
   "outputs": [
    {
     "name": "stdout",
     "output_type": "stream",
     "text": [
      "how are you\n"
     ]
    }
   ],
   "source": [
    "print(message)"
   ]
  },
  {
   "cell_type": "code",
   "execution_count": 20,
   "id": "34020606",
   "metadata": {},
   "outputs": [
    {
     "name": "stdout",
     "output_type": "stream",
     "text": [
      "please enter your name Sadath\n",
      "\n",
      "Hello, Sadath\n"
     ]
    }
   ],
   "source": [
    "#writing clear prompts\n",
    "name = input(\"please enter your name \")\n",
    "print(f\"\\nHello, {name}\")"
   ]
  },
  {
   "cell_type": "code",
   "execution_count": null,
   "id": "48fa72f8",
   "metadata": {},
   "outputs": [],
   "source": []
  }
 ],
 "metadata": {
  "kernelspec": {
   "display_name": "Python 3",
   "language": "python",
   "name": "python3"
  },
  "language_info": {
   "codemirror_mode": {
    "name": "ipython",
    "version": 3
   },
   "file_extension": ".py",
   "mimetype": "text/x-python",
   "name": "python",
   "nbconvert_exporter": "python",
   "pygments_lexer": "ipython3",
   "version": "3.8.8"
  }
 },
 "nbformat": 4,
 "nbformat_minor": 5
}
