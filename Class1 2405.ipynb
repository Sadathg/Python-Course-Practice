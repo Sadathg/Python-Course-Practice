{
 "cells": [
  {
   "cell_type": "code",
   "execution_count": 2,
   "id": "2a1238d7",
   "metadata": {},
   "outputs": [],
   "source": [
    "fn='naman'\n",
    "sn='trivedi'"
   ]
  },
  {
   "cell_type": "code",
   "execution_count": 7,
   "id": "9aeb7bfe",
   "metadata": {},
   "outputs": [],
   "source": [
    "full= f\"{fn} {sn}\" "
   ]
  },
  {
   "cell_type": "code",
   "execution_count": 8,
   "id": "3a730bce",
   "metadata": {},
   "outputs": [
    {
     "name": "stdout",
     "output_type": "stream",
     "text": [
      "naman trivedi\n"
     ]
    }
   ],
   "source": [
    "print (full\n",
    "    )"
   ]
  },
  {
   "cell_type": "code",
   "execution_count": 9,
   "id": "5c25f313",
   "metadata": {},
   "outputs": [
    {
     "name": "stdout",
     "output_type": "stream",
     "text": [
      "keep good work, Naman Trivedi\n"
     ]
    }
   ],
   "source": [
    "print (f\"keep good work, {full.title()}\"\n",
    "    )"
   ]
  },
  {
   "cell_type": "code",
   "execution_count": 11,
   "id": "7a2bdc0e",
   "metadata": {},
   "outputs": [
    {
     "ename": "SyntaxError",
     "evalue": "invalid syntax (<ipython-input-11-11a0fbf8bb45>, line 1)",
     "output_type": "error",
     "traceback": [
      "\u001b[1;36m  File \u001b[1;32m\"<ipython-input-11-11a0fbf8bb45>\"\u001b[1;36m, line \u001b[1;32m1\u001b[0m\n\u001b[1;33m    Adding white spaces to strings:\u001b[0m\n\u001b[1;37m           ^\u001b[0m\n\u001b[1;31mSyntaxError\u001b[0m\u001b[1;31m:\u001b[0m invalid syntax\n"
     ]
    }
   ],
   "source": [
    "Adding white spaces to strings:"
   ]
  },
  {
   "cell_type": "code",
   "execution_count": 12,
   "id": "83b0d664",
   "metadata": {},
   "outputs": [
    {
     "ename": "SyntaxError",
     "evalue": "invalid syntax (<ipython-input-12-11a0fbf8bb45>, line 1)",
     "output_type": "error",
     "traceback": [
      "\u001b[1;36m  File \u001b[1;32m\"<ipython-input-12-11a0fbf8bb45>\"\u001b[1;36m, line \u001b[1;32m1\u001b[0m\n\u001b[1;33m    Adding white spaces to strings:\u001b[0m\n\u001b[1;37m           ^\u001b[0m\n\u001b[1;31mSyntaxError\u001b[0m\u001b[1;31m:\u001b[0m invalid syntax\n"
     ]
    }
   ],
   "source": [
    "Adding white spaces to strings:"
   ]
  },
  {
   "cell_type": "code",
   "execution_count": 13,
   "id": "44be975d",
   "metadata": {},
   "outputs": [],
   "source": [
    "# survey on favourite programming language\n"
   ]
  },
  {
   "cell_type": "code",
   "execution_count": 14,
   "id": "7836b5fb",
   "metadata": {},
   "outputs": [
    {
     "name": "stdout",
     "output_type": "stream",
     "text": [
      " favourite_program:pythoncjavac++swifttcobal\n"
     ]
    }
   ],
   "source": [
    "print(' favourite_program:pythoncjavac++swifttcobal') #/n new line delimiter"
   ]
  },
  {
   "cell_type": "code",
   "execution_count": 15,
   "id": "b4f61d1e",
   "metadata": {},
   "outputs": [
    {
     "name": "stdout",
     "output_type": "stream",
     "text": [
      " favourite_program:/npython/nc/njava/nc++/nswift/ncobal\n"
     ]
    }
   ],
   "source": [
    "print(' favourite_program:/npython/nc/njava/nc++/nswift/ncobal')"
   ]
  },
  {
   "cell_type": "code",
   "execution_count": 16,
   "id": "da502f94",
   "metadata": {},
   "outputs": [
    {
     "name": "stdout",
     "output_type": "stream",
     "text": [
      " favourite_program:\n",
      "python\n",
      "c\n",
      "java\n",
      "c++\n",
      "swift\n",
      "cobal\n"
     ]
    }
   ],
   "source": [
    "print(' favourite_program:\\npython\\nc\\njava\\nc++\\nswift\\ncobal')"
   ]
  },
  {
   "cell_type": "code",
   "execution_count": 17,
   "id": "d9414b25",
   "metadata": {},
   "outputs": [
    {
     "name": "stdout",
     "output_type": "stream",
     "text": [
      " favourite_program:\n",
      "python\n",
      "\tc\n",
      "\tjava\n",
      "\tc++\n",
      "\tswift\n",
      "\tcobal\n"
     ]
    }
   ],
   "source": [
    "print(' favourite_program:\\npython\\n\\tc\\n\\tjava\\n\\tc++\\n\\tswift\\n\\tcobal')"
   ]
  },
  {
   "cell_type": "markdown",
   "id": "59779e9a",
   "metadata": {},
   "source": []
  },
  {
   "cell_type": "code",
   "execution_count": 24,
   "id": "4ce60d06",
   "metadata": {},
   "outputs": [],
   "source": [
    "name1 = \"david\""
   ]
  },
  {
   "cell_type": "markdown",
   "id": "d23ee53a",
   "metadata": {},
   "source": [
    "name2=\"davidd\""
   ]
  },
  {
   "cell_type": "code",
   "execution_count": 23,
   "id": "6f909ab7",
   "metadata": {},
   "outputs": [],
   "source": [
    "name2 = \"David\""
   ]
  },
  {
   "cell_type": "markdown",
   "id": "64bf997b",
   "metadata": {},
   "source": [
    "name3 = \"\"\"David\"\"\""
   ]
  },
  {
   "cell_type": "code",
   "execution_count": 26,
   "id": "903c134f",
   "metadata": {},
   "outputs": [],
   "source": [
    "name3 = \"\"\"David\"\"\""
   ]
  },
  {
   "cell_type": "code",
   "execution_count": 27,
   "id": "20725d11",
   "metadata": {},
   "outputs": [
    {
     "name": "stdout",
     "output_type": "stream",
     "text": [
      "david\n"
     ]
    }
   ],
   "source": [
    "print (name1)"
   ]
  },
  {
   "cell_type": "code",
   "execution_count": 28,
   "id": "dd15cd78",
   "metadata": {},
   "outputs": [
    {
     "name": "stdout",
     "output_type": "stream",
     "text": [
      "David\n"
     ]
    }
   ],
   "source": [
    "print (name3)"
   ]
  },
  {
   "cell_type": "code",
   "execution_count": 29,
   "id": "4b84f849",
   "metadata": {},
   "outputs": [
    {
     "name": "stdout",
     "output_type": "stream",
     "text": [
      "David\n"
     ]
    }
   ],
   "source": [
    "print (name2)"
   ]
  },
  {
   "cell_type": "code",
   "execution_count": 32,
   "id": "4f024893",
   "metadata": {},
   "outputs": [
    {
     "data": {
      "text/plain": [
       "str"
      ]
     },
     "execution_count": 32,
     "metadata": {},
     "output_type": "execute_result"
    }
   ],
   "source": [
    "type (name1\n",
    ")"
   ]
  },
  {
   "cell_type": "code",
   "execution_count": 34,
   "id": "bacd13c4",
   "metadata": {},
   "outputs": [
    {
     "name": "stdout",
     "output_type": "stream",
     "text": [
      "name3\n"
     ]
    }
   ],
   "source": [
    "print('name3')"
   ]
  },
  {
   "cell_type": "code",
   "execution_count": 35,
   "id": "44477364",
   "metadata": {},
   "outputs": [
    {
     "name": "stdout",
     "output_type": "stream",
     "text": [
      "name3\n"
     ]
    }
   ],
   "source": [
    "print(\"name3\")"
   ]
  },
  {
   "cell_type": "code",
   "execution_count": 36,
   "id": "87486e1c",
   "metadata": {},
   "outputs": [
    {
     "name": "stdout",
     "output_type": "stream",
     "text": [
      "David\n"
     ]
    }
   ],
   "source": [
    "print(name3)"
   ]
  },
  {
   "cell_type": "code",
   "execution_count": null,
   "id": "54a44041",
   "metadata": {},
   "outputs": [],
   "source": []
  }
 ],
 "metadata": {
  "kernelspec": {
   "display_name": "Python 3",
   "language": "python",
   "name": "python3"
  },
  "language_info": {
   "codemirror_mode": {
    "name": "ipython",
    "version": 3
   },
   "file_extension": ".py",
   "mimetype": "text/x-python",
   "name": "python",
   "nbconvert_exporter": "python",
   "pygments_lexer": "ipython3",
   "version": "3.8.8"
  }
 },
 "nbformat": 4,
 "nbformat_minor": 5
}
