{
 "cells": [
  {
   "cell_type": "code",
   "execution_count": 14,
   "id": "5f2b564c",
   "metadata": {},
   "outputs": [],
   "source": [
    "Students = ['sampath', 'afsha','aftab','naveen','divya','harika' ]\n"
   ]
  },
  {
   "cell_type": "code",
   "execution_count": 15,
   "id": "a7f1e598",
   "metadata": {},
   "outputs": [
    {
     "name": "stdout",
     "output_type": "stream",
     "text": [
      "['sampath', 'afsha', 'aftab', 'naveen', 'divya', 'harika']\n"
     ]
    }
   ],
   "source": [
    "print (Students)"
   ]
  },
  {
   "cell_type": "code",
   "execution_count": 16,
   "id": "08bc33c2",
   "metadata": {},
   "outputs": [
    {
     "name": "stdout",
     "output_type": "stream",
     "text": [
      "keep up the good work, Afsha\n"
     ]
    }
   ],
   "source": [
    "print (f\"keep up the good work, {Students[1].title()}\")"
   ]
  },
  {
   "cell_type": "code",
   "execution_count": 20,
   "id": "27e4b36e",
   "metadata": {},
   "outputs": [
    {
     "name": "stdout",
     "output_type": "stream",
     "text": [
      "keep up the good work, Aftab\n"
     ]
    }
   ],
   "source": [
    "print(f\"keep up the good work, {Students[2].title()}\")"
   ]
  },
  {
   "cell_type": "code",
   "execution_count": 21,
   "id": "838e45c0",
   "metadata": {},
   "outputs": [
    {
     "name": "stdout",
     "output_type": "stream",
     "text": [
      "Keep up the good work, Sampath\n",
      "Keep up the good work, Afsha\n",
      "Keep up the good work, Aftab\n",
      "Keep up the good work, Naveen\n",
      "Keep up the good work, Divya\n",
      "Keep up the good work, Harika\n"
     ]
    }
   ],
   "source": [
    "for x in Students:\n",
    "    print(f\"Keep up the good work, {x.title()}\")"
   ]
  },
  {
   "cell_type": "code",
   "execution_count": 21,
   "id": "c068ffed",
   "metadata": {},
   "outputs": [
    {
     "name": "stdout",
     "output_type": "stream",
     "text": [
      "Keep up the good work, Sampath\n",
      "Keep up the good work, Afsha\n",
      "Keep up the good work, Aftab\n",
      "Keep up the good work, Naveen\n",
      "Keep up the good work, Divya\n",
      "Keep up the good work, Harika\n"
     ]
    }
   ],
   "source": [
    "for batman in Students:\n",
    "    print(f\"Keep up the good work, {batman.title()}\")"
   ]
  },
  {
   "cell_type": "code",
   "execution_count": 22,
   "id": "029ec578",
   "metadata": {},
   "outputs": [
    {
     "name": "stdout",
     "output_type": "stream",
     "text": [
      "keep up the good work, Sampath\n",
      "I am looking forward to receive the practice file of today, Sampath\n",
      "keep up the good work, Afsha\n",
      "I am looking forward to receive the practice file of today, Afsha\n",
      "keep up the good work, Aftab\n",
      "I am looking forward to receive the practice file of today, Aftab\n",
      "keep up the good work, Naveen\n",
      "I am looking forward to receive the practice file of today, Naveen\n",
      "keep up the good work, Divya\n",
      "I am looking forward to receive the practice file of today, Divya\n",
      "keep up the good work, Harika\n",
      "I am looking forward to receive the practice file of today, Harika\n"
     ]
    }
   ],
   "source": [
    "for x in Students:\n",
    "    print(f\"keep up the good work, {x.title()}\")\n",
    "    print(f\"I am looking forward to receive the practice file of today, {x.title()}\")"
   ]
  },
  {
   "cell_type": "code",
   "execution_count": 39,
   "id": "317e380f",
   "metadata": {},
   "outputs": [
    {
     "name": "stdout",
     "output_type": "stream",
     "text": [
      "keep up the good work, Sampath\n",
      "I am looking forward to receive the practice file of today, Sampath.\n",
      "\n",
      "keep up the good work, Afsha\n",
      "I am looking forward to receive the practice file of today, Afsha.\n",
      "\n",
      "keep up the good work, Aftab\n",
      "I am looking forward to receive the practice file of today, Aftab.\n",
      "\n",
      "keep up the good work, Naveen\n",
      "I am looking forward to receive the practice file of today, Naveen.\n",
      "\n",
      "keep up the good work, Divya\n",
      "I am looking forward to receive the practice file of today, Divya.\n",
      "\n",
      "keep up the good work, Harika\n",
      "I am looking forward to receive the practice file of today, Harika.\n",
      "\n",
      "Thank you all for attending session for today\n"
     ]
    }
   ],
   "source": [
    "for x in Students:\n",
    "    print (f\"keep up the good work, {x.title()}\")\n",
    "    print(f\"I am looking forward to receive the practice file of today, {x.title()}.\\n\")\n",
    "print(\"Thank you all for attending session for today\")"
   ]
  },
  {
   "cell_type": "code",
   "execution_count": 41,
   "id": "c6f59fb3",
   "metadata": {
    "scrolled": true
   },
   "outputs": [
    {
     "name": "stdout",
     "output_type": "stream",
     "text": [
      "['sampath', 'afsha', 'aftab', 'naveen', 'divya', 'harika']\n"
     ]
    }
   ],
   "source": [
    "print (Students)"
   ]
  },
  {
   "cell_type": "code",
   "execution_count": 29,
   "id": "7e538ba2",
   "metadata": {},
   "outputs": [],
   "source": [
    "import this"
   ]
  },
  {
   "cell_type": "code",
   "execution_count": null,
   "id": "d581f5ac",
   "metadata": {},
   "outputs": [],
   "source": []
  },
  {
   "cell_type": "code",
   "execution_count": null,
   "id": "02a12a79",
   "metadata": {},
   "outputs": [],
   "source": []
  },
  {
   "cell_type": "code",
   "execution_count": null,
   "id": "3323baf2",
   "metadata": {},
   "outputs": [],
   "source": [
    "#--------------------------------Day 5 on 7th June repeat session -----------------------------------------#"
   ]
  },
  {
   "cell_type": "code",
   "execution_count": null,
   "id": "6e189429",
   "metadata": {},
   "outputs": [],
   "source": []
  },
  {
   "cell_type": "code",
   "execution_count": 2,
   "id": "40e04eda",
   "metadata": {},
   "outputs": [],
   "source": [
    "#Organising the list datatypes"
   ]
  },
  {
   "cell_type": "code",
   "execution_count": 7,
   "id": "9d968858",
   "metadata": {},
   "outputs": [],
   "source": [
    "cars = ['toyota', 'audi', 'maruthi', 'suzuki', 'kia','benz', 'bmw', 'hyundai']"
   ]
  },
  {
   "cell_type": "code",
   "execution_count": 6,
   "id": "f7b029ed",
   "metadata": {},
   "outputs": [
    {
     "name": "stdout",
     "output_type": "stream",
     "text": [
      "['audi', 'hyundai', 'kia', 'maruthi', 'suzuki', 'toyota']\n"
     ]
    }
   ],
   "source": [
    "print (cars)"
   ]
  },
  {
   "cell_type": "code",
   "execution_count": 9,
   "id": "4cd8720b",
   "metadata": {},
   "outputs": [
    {
     "name": "stdout",
     "output_type": "stream",
     "text": [
      "['audi', 'benz', 'bmw', 'hyundai', 'kia', 'maruthi', 'suzuki', 'toyota']\n"
     ]
    }
   ],
   "source": [
    "#Temporary approach\n",
    "print(sorted(cars))"
   ]
  },
  {
   "cell_type": "code",
   "execution_count": 10,
   "id": "c02ced21",
   "metadata": {},
   "outputs": [],
   "source": [
    "#Permanent approach\n",
    "cars.sort()"
   ]
  },
  {
   "cell_type": "code",
   "execution_count": 11,
   "id": "2843b4dd",
   "metadata": {},
   "outputs": [
    {
     "name": "stdout",
     "output_type": "stream",
     "text": [
      "['audi', 'benz', 'bmw', 'hyundai', 'kia', 'maruthi', 'suzuki', 'toyota']\n"
     ]
    }
   ],
   "source": [
    "print (cars)"
   ]
  },
  {
   "cell_type": "code",
   "execution_count": 12,
   "id": "a9f91d15",
   "metadata": {},
   "outputs": [],
   "source": [
    "cars.reverse ()"
   ]
  },
  {
   "cell_type": "code",
   "execution_count": 14,
   "id": "dc8164a3",
   "metadata": {},
   "outputs": [
    {
     "name": "stdout",
     "output_type": "stream",
     "text": [
      "['toyota', 'suzuki', 'maruthi', 'kia', 'hyundai', 'bmw', 'benz', 'audi']\n"
     ]
    }
   ],
   "source": [
    "print(cars)"
   ]
  },
  {
   "cell_type": "code",
   "execution_count": 16,
   "id": "ae6fbf88",
   "metadata": {},
   "outputs": [
    {
     "data": {
      "text/plain": [
       "8"
      ]
     },
     "execution_count": 16,
     "metadata": {},
     "output_type": "execute_result"
    }
   ],
   "source": [
    "len(cars)"
   ]
  },
  {
   "cell_type": "code",
   "execution_count": 27,
   "id": "efa4c4b7",
   "metadata": {},
   "outputs": [],
   "source": [
    "# Note: Python is a case sensitive language"
   ]
  },
  {
   "cell_type": "code",
   "execution_count": 1,
   "id": "9348d3d7",
   "metadata": {},
   "outputs": [
    {
     "name": "stdout",
     "output_type": "stream",
     "text": [
      "The Zen of Python, by Tim Peters\n",
      "\n",
      "Beautiful is better than ugly.\n",
      "Explicit is better than implicit.\n",
      "Simple is better than complex.\n",
      "Complex is better than complicated.\n",
      "Flat is better than nested.\n",
      "Sparse is better than dense.\n",
      "Readability counts.\n",
      "Special cases aren't special enough to break the rules.\n",
      "Although practicality beats purity.\n",
      "Errors should never pass silently.\n",
      "Unless explicitly silenced.\n",
      "In the face of ambiguity, refuse the temptation to guess.\n",
      "There should be one-- and preferably only one --obvious way to do it.\n",
      "Although that way may not be obvious at first unless you're Dutch.\n",
      "Now is better than never.\n",
      "Although never is often better than *right* now.\n",
      "If the implementation is hard to explain, it's a bad idea.\n",
      "If the implementation is easy to explain, it may be a good idea.\n",
      "Namespaces are one honking great idea -- let's do more of those!\n"
     ]
    }
   ],
   "source": [
    "import this"
   ]
  },
  {
   "cell_type": "code",
   "execution_count": null,
   "id": "8b18814d",
   "metadata": {},
   "outputs": [],
   "source": []
  }
 ],
 "metadata": {
  "kernelspec": {
   "display_name": "Python 3",
   "language": "python",
   "name": "python3"
  },
  "language_info": {
   "codemirror_mode": {
    "name": "ipython",
    "version": 3
   },
   "file_extension": ".py",
   "mimetype": "text/x-python",
   "name": "python",
   "nbconvert_exporter": "python",
   "pygments_lexer": "ipython3",
   "version": "3.8.8"
  }
 },
 "nbformat": 4,
 "nbformat_minor": 5
}
