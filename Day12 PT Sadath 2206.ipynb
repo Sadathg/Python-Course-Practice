{
 "cells": [
  {
   "cell_type": "code",
   "execution_count": null,
   "id": "f12916cb",
   "metadata": {},
   "outputs": [],
   "source": [
    "Introduction to python functions:\n",
    "    \n",
    "    CODE REUSABILITY"
   ]
  },
  {
   "cell_type": "code",
   "execution_count": null,
   "id": "32f8e425",
   "metadata": {},
   "outputs": [],
   "source": [
    "Overview : def is the keyword for defining the function\n",
    "\n",
    "we have to use small case letter to define a function"
   ]
  },
  {
   "cell_type": "code",
   "execution_count": null,
   "id": "b9509b81",
   "metadata": {},
   "outputs": [],
   "source": []
  },
  {
   "cell_type": "code",
   "execution_count": null,
   "id": "ab49f1ab",
   "metadata": {},
   "outputs": [],
   "source": [
    "#req create a greet function"
   ]
  },
  {
   "cell_type": "code",
   "execution_count": 4,
   "id": "d64a3af1",
   "metadata": {},
   "outputs": [],
   "source": [
    "def greet():\n",
    "    'creating a greet function'   #==>doc string===> commenting inside a function\n",
    "    print('hello')\n",
    "    "
   ]
  },
  {
   "cell_type": "code",
   "execution_count": 3,
   "id": "4ad67e49",
   "metadata": {},
   "outputs": [
    {
     "name": "stdout",
     "output_type": "stream",
     "text": [
      "hello\n"
     ]
    }
   ],
   "source": [
    "greet()    #calling the function or function call"
   ]
  },
  {
   "cell_type": "code",
   "execution_count": null,
   "id": "79d3d460",
   "metadata": {},
   "outputs": [],
   "source": []
  },
  {
   "cell_type": "code",
   "execution_count": 8,
   "id": "a0ddeb63",
   "metadata": {},
   "outputs": [],
   "source": [
    "#req   :   code enhancement \n",
    "\n",
    "#req creating a function for greeting a user\n",
    "\n",
    "def greetuser(username):    #++> passsing info to function==>Parameter Pasing\n",
    "    \"\"\"creating a greet function\"\"\"\n",
    "    print(f\"Hello, {username.title()}\")"
   ]
  },
  {
   "cell_type": "code",
   "execution_count": 9,
   "id": "07c364ea",
   "metadata": {},
   "outputs": [
    {
     "name": "stdout",
     "output_type": "stream",
     "text": [
      "Hello, Sirisha\n"
     ]
    }
   ],
   "source": [
    "greetuser('sirisha')  # argument passing"
   ]
  },
  {
   "cell_type": "code",
   "execution_count": 11,
   "id": "8250ebdd",
   "metadata": {},
   "outputs": [
    {
     "name": "stdout",
     "output_type": "stream",
     "text": [
      "Hello, Sadath\n"
     ]
    }
   ],
   "source": [
    "greetuser('Sadath')"
   ]
  },
  {
   "cell_type": "code",
   "execution_count": null,
   "id": "61e6b476",
   "metadata": {},
   "outputs": [],
   "source": []
  },
  {
   "cell_type": "code",
   "execution_count": null,
   "id": "434b2d97",
   "metadata": {},
   "outputs": [],
   "source": [
    "Types of arguments\n",
    "    1. Positional Arguments\n",
    "    2. Keyword arguments\n",
    "    3. Default arguments\n",
    "    4. Speculative or KW arguments\n",
    "    5. return Values"
   ]
  },
  {
   "cell_type": "code",
   "execution_count": null,
   "id": "1d0189d3",
   "metadata": {},
   "outputs": [],
   "source": [
    "#req  :   Create a describable function and accept the below parameters\n",
    "\n",
    "animal_type and pet_name"
   ]
  },
  {
   "cell_type": "code",
   "execution_count": 17,
   "id": "23e4d7cf",
   "metadata": {},
   "outputs": [],
   "source": [
    "def describe_pet(animal_type,pet_name):\n",
    "    '''creating the pet details function'''\n",
    "    print(f\"I have a {animal_type}\")\n",
    "    print(f\"My {animal_type} name is {pet_name}\")\n",
    "    "
   ]
  },
  {
   "cell_type": "code",
   "execution_count": 18,
   "id": "f012e876",
   "metadata": {},
   "outputs": [
    {
     "name": "stdout",
     "output_type": "stream",
     "text": [
      "I have a cat\n",
      "My cat name is bella\n"
     ]
    }
   ],
   "source": [
    "describe_pet('cat','bella')"
   ]
  },
  {
   "cell_type": "code",
   "execution_count": 19,
   "id": "c14522ac",
   "metadata": {},
   "outputs": [
    {
     "name": "stdout",
     "output_type": "stream",
     "text": [
      "I have a dog\n",
      "My dog name is bruno\n"
     ]
    }
   ],
   "source": [
    "describe_pet('dog','bruno')"
   ]
  },
  {
   "cell_type": "code",
   "execution_count": null,
   "id": "01e4a689",
   "metadata": {},
   "outputs": [],
   "source": [
    "# NOTE   :   By default a function will be accepting the positional args i.e. arguments"
   ]
  },
  {
   "cell_type": "code",
   "execution_count": 20,
   "id": "6e3352d3",
   "metadata": {},
   "outputs": [
    {
     "name": "stdout",
     "output_type": "stream",
     "text": [
      "I have a dog\n",
      "My dog name is scooby\n"
     ]
    }
   ],
   "source": [
    "describe_pet(pet_name='scooby',animal_type='dog')   #key word arguments"
   ]
  },
  {
   "cell_type": "code",
   "execution_count": 21,
   "id": "9578bd02",
   "metadata": {},
   "outputs": [
    {
     "ename": "TypeError",
     "evalue": "describe_pet() missing 1 required positional argument: 'pet_name'",
     "output_type": "error",
     "traceback": [
      "\u001b[1;31m---------------------------------------------------------------------------\u001b[0m",
      "\u001b[1;31mTypeError\u001b[0m                                 Traceback (most recent call last)",
      "\u001b[1;32m<ipython-input-21-fce21b101470>\u001b[0m in \u001b[0;36m<module>\u001b[1;34m\u001b[0m\n\u001b[1;32m----> 1\u001b[1;33m \u001b[0mdescribe_pet\u001b[0m\u001b[1;33m(\u001b[0m\u001b[1;34m'barfi'\u001b[0m\u001b[1;33m)\u001b[0m\u001b[1;33m\u001b[0m\u001b[1;33m\u001b[0m\u001b[0m\n\u001b[0m",
      "\u001b[1;31mTypeError\u001b[0m: describe_pet() missing 1 required positional argument: 'pet_name'"
     ]
    }
   ],
   "source": [
    "describe_pet('barfi')"
   ]
  },
  {
   "cell_type": "code",
   "execution_count": 22,
   "id": "4e536fb0",
   "metadata": {
    "scrolled": true
   },
   "outputs": [
    {
     "ename": "SyntaxError",
     "evalue": "non-default argument follows default argument (<ipython-input-22-a09876f68a95>, line 3)",
     "output_type": "error",
     "traceback": [
      "\u001b[1;36m  File \u001b[1;32m\"<ipython-input-22-a09876f68a95>\"\u001b[1;36m, line \u001b[1;32m3\u001b[0m\n\u001b[1;33m    def describe_pet(animal_type='dog',pet_name):\u001b[0m\n\u001b[1;37m                     ^\u001b[0m\n\u001b[1;31mSyntaxError\u001b[0m\u001b[1;31m:\u001b[0m non-default argument follows default argument\n"
     ]
    }
   ],
   "source": [
    "# So to overcome this defaault parameters are set and it needs to be set at the end\n",
    "\n",
    "def describe_pet(animal_type='dog',pet_name):        # 2 parameters \n",
    "    '''creating the pet details function'''          #doc strings\n",
    "    print(f\"I have a {animal_type}\")      ##logic of the function\n",
    "    print(f\"My {animal_type} name is {pet_name}\")"
   ]
  },
  {
   "cell_type": "code",
   "execution_count": null,
   "id": "4431e614",
   "metadata": {},
   "outputs": [],
   "source": [
    "# rectifying the above error by calling default function in the end."
   ]
  },
  {
   "cell_type": "code",
   "execution_count": 24,
   "id": "a9a1fff0",
   "metadata": {},
   "outputs": [],
   "source": [
    "def describe_pet(pet_name,animal_type='dog'):  # 2 parameters \n",
    "    '''creating the pet details function'''    #doc strings\n",
    "    print(f\"I have a {animal_type}\")           #logic of the function\n",
    "    print(f\"My {animal_type} name is {pet_name}\")"
   ]
  },
  {
   "cell_type": "code",
   "execution_count": 25,
   "id": "dc9e162b",
   "metadata": {},
   "outputs": [
    {
     "name": "stdout",
     "output_type": "stream",
     "text": [
      "I have a dog\n",
      "My dog name is barfi\n"
     ]
    }
   ],
   "source": [
    "describe_pet('barfi')"
   ]
  },
  {
   "cell_type": "code",
   "execution_count": null,
   "id": "764ab776",
   "metadata": {},
   "outputs": [],
   "source": []
  }
 ],
 "metadata": {
  "kernelspec": {
   "display_name": "Python 3",
   "language": "python",
   "name": "python3"
  },
  "language_info": {
   "codemirror_mode": {
    "name": "ipython",
    "version": 3
   },
   "file_extension": ".py",
   "mimetype": "text/x-python",
   "name": "python",
   "nbconvert_exporter": "python",
   "pygments_lexer": "ipython3",
   "version": "3.8.8"
  }
 },
 "nbformat": 4,
 "nbformat_minor": 5
}
