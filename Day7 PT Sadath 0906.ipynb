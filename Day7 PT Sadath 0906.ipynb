{
 "cells": [
  {
   "cell_type": "code",
   "execution_count": 1,
   "id": "1eb2c908",
   "metadata": {},
   "outputs": [],
   "source": [
    "students = ['venky','prasad','basith','ibrahim','gul','sirisha']"
   ]
  },
  {
   "cell_type": "code",
   "execution_count": 2,
   "id": "4602b66c",
   "metadata": {},
   "outputs": [
    {
     "name": "stdout",
     "output_type": "stream",
     "text": [
      "['venky', 'prasad', 'basith', 'ibrahim', 'gul', 'sirisha']\n"
     ]
    }
   ],
   "source": [
    "print (students)"
   ]
  },
  {
   "cell_type": "code",
   "execution_count": 3,
   "id": "4e82a9b4",
   "metadata": {},
   "outputs": [],
   "source": [
    "#--------------Note: Last value is always exclusive so ++++++++++========> increment the index by 1"
   ]
  },
  {
   "cell_type": "code",
   "execution_count": 4,
   "id": "7a6bfa51",
   "metadata": {},
   "outputs": [
    {
     "name": "stdout",
     "output_type": "stream",
     "text": [
      "['venky', 'prasad']\n"
     ]
    }
   ],
   "source": [
    "print(students[0:2])     # venkatesh and prasad"
   ]
  },
  {
   "cell_type": "code",
   "execution_count": 5,
   "id": "ab698a8f",
   "metadata": {},
   "outputs": [
    {
     "name": "stdout",
     "output_type": "stream",
     "text": [
      "['basith', 'ibrahim']\n"
     ]
    }
   ],
   "source": [
    "print(students[2:4])"
   ]
  },
  {
   "cell_type": "code",
   "execution_count": 6,
   "id": "09a2a783",
   "metadata": {},
   "outputs": [],
   "source": [
    "#big list\n",
    "STUDENTS=['venky', 'prasad', 'basith', 'ibrahim', 'gul', 'sirisha','akhil','ameesh','sam','faiz','kaleem']"
   ]
  },
  {
   "cell_type": "code",
   "execution_count": 11,
   "id": "b65b590d",
   "metadata": {},
   "outputs": [
    {
     "name": "stdout",
     "output_type": "stream",
     "text": [
      "['venky', 'ibrahim', 'akhil', 'faiz']\n"
     ]
    }
   ],
   "source": [
    "print (STUDENTS[0:11:3])  # all in list leaving 2 in between"
   ]
  },
  {
   "cell_type": "code",
   "execution_count": 12,
   "id": "3001f382",
   "metadata": {},
   "outputs": [
    {
     "name": "stdout",
     "output_type": "stream",
     "text": [
      "['basith', 'gul', 'akhil', 'sam']\n"
     ]
    }
   ],
   "source": [
    "print (STUDENTS[2:10:2])  "
   ]
  },
  {
   "cell_type": "code",
   "execution_count": 13,
   "id": "1f4c37da",
   "metadata": {},
   "outputs": [],
   "source": [
    "# Implementation of range method"
   ]
  },
  {
   "cell_type": "code",
   "execution_count": 14,
   "id": "13e1dcf0",
   "metadata": {},
   "outputs": [],
   "source": [
    "numbers=list(range(0,101))"
   ]
  },
  {
   "cell_type": "code",
   "execution_count": 15,
   "id": "532b3255",
   "metadata": {},
   "outputs": [
    {
     "name": "stdout",
     "output_type": "stream",
     "text": [
      "[0, 1, 2, 3, 4, 5, 6, 7, 8, 9, 10, 11, 12, 13, 14, 15, 16, 17, 18, 19, 20, 21, 22, 23, 24, 25, 26, 27, 28, 29, 30, 31, 32, 33, 34, 35, 36, 37, 38, 39, 40, 41, 42, 43, 44, 45, 46, 47, 48, 49, 50, 51, 52, 53, 54, 55, 56, 57, 58, 59, 60, 61, 62, 63, 64, 65, 66, 67, 68, 69, 70, 71, 72, 73, 74, 75, 76, 77, 78, 79, 80, 81, 82, 83, 84, 85, 86, 87, 88, 89, 90, 91, 92, 93, 94, 95, 96, 97, 98, 99, 100]\n"
     ]
    }
   ],
   "source": [
    "print(numbers)"
   ]
  },
  {
   "cell_type": "code",
   "execution_count": null,
   "id": "0fb81f32",
   "metadata": {},
   "outputs": [],
   "source": []
  },
  {
   "cell_type": "code",
   "execution_count": null,
   "id": "afa939fd",
   "metadata": {},
   "outputs": [],
   "source": [
    "# IQ===How do you print only even numbers from 1 to 20 by using list\n"
   ]
  },
  {
   "cell_type": "code",
   "execution_count": 18,
   "id": "b4a73bfe",
   "metadata": {},
   "outputs": [],
   "source": [
    "even_numbers=list(range(2,101,2))"
   ]
  },
  {
   "cell_type": "code",
   "execution_count": 19,
   "id": "3179f4a2",
   "metadata": {},
   "outputs": [
    {
     "name": "stdout",
     "output_type": "stream",
     "text": [
      "[2, 4, 6, 8, 10, 12, 14, 16, 18, 20, 22, 24, 26, 28, 30, 32, 34, 36, 38, 40, 42, 44, 46, 48, 50, 52, 54, 56, 58, 60, 62, 64, 66, 68, 70, 72, 74, 76, 78, 80, 82, 84, 86, 88, 90, 92, 94, 96, 98, 100]\n"
     ]
    }
   ],
   "source": [
    "print(even_numbers)"
   ]
  },
  {
   "cell_type": "code",
   "execution_count": 22,
   "id": "3ed46336",
   "metadata": {},
   "outputs": [],
   "source": [
    "# printing odd numbers from 1 to 50--------------------\n",
    "\n",
    "odd_numbers=list(range(1,51,2))"
   ]
  },
  {
   "cell_type": "code",
   "execution_count": 23,
   "id": "1e4468dd",
   "metadata": {},
   "outputs": [
    {
     "name": "stdout",
     "output_type": "stream",
     "text": [
      "[1, 3, 5, 7, 9, 11, 13, 15, 17, 19, 21, 23, 25, 27, 29, 31, 33, 35, 37, 39, 41, 43, 45, 47, 49]\n"
     ]
    }
   ],
   "source": [
    "print(odd_numbers)"
   ]
  },
  {
   "cell_type": "code",
   "execution_count": null,
   "id": "44de286e",
   "metadata": {},
   "outputs": [],
   "source": []
  }
 ],
 "metadata": {
  "kernelspec": {
   "display_name": "Python 3",
   "language": "python",
   "name": "python3"
  },
  "language_info": {
   "codemirror_mode": {
    "name": "ipython",
    "version": 3
   },
   "file_extension": ".py",
   "mimetype": "text/x-python",
   "name": "python",
   "nbconvert_exporter": "python",
   "pygments_lexer": "ipython3",
   "version": "3.8.8"
  }
 },
 "nbformat": 4,
 "nbformat_minor": 5
}
