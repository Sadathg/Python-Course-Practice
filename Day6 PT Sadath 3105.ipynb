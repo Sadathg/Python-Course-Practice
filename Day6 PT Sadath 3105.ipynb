{
 "cells": [
  {
   "cell_type": "code",
   "execution_count": 1,
   "id": "ce812b69",
   "metadata": {},
   "outputs": [],
   "source": [
    "students = ['ravi', 'grace', 'naveen', 'gulafshan','sameer','farhana','keerthi']"
   ]
  },
  {
   "cell_type": "code",
   "execution_count": 13,
   "id": "80ddf4ef",
   "metadata": {},
   "outputs": [
    {
     "name": "stdout",
     "output_type": "stream",
     "text": [
      "Keep up the good work, Grace\n",
      "Keep up the good work, Grace\n",
      "Keep up the good work, Grace\n",
      "Keep up the good work, Grace\n",
      "Keep up the good work, Grace\n",
      "Keep up the good work, Grace\n",
      "Keep up the good work, Grace\n"
     ]
    }
   ],
   "source": [
    "for x in students:\n",
    "    print(f\"Keep up the good work, {students[1].title()}\") # gap is call3ed as indentation and it is mandatory\n"
   ]
  },
  {
   "cell_type": "code",
   "execution_count": 9,
   "id": "255c8765",
   "metadata": {},
   "outputs": [
    {
     "data": {
      "text/plain": [
       "list"
      ]
     },
     "execution_count": 9,
     "metadata": {},
     "output_type": "execute_result"
    }
   ],
   "source": [
    "type (students)"
   ]
  },
  {
   "cell_type": "code",
   "execution_count": 6,
   "id": "9a2a2c94",
   "metadata": {},
   "outputs": [
    {
     "name": "stdout",
     "output_type": "stream",
     "text": [
      "Keep up the good work, Ravi\n",
      "Keep up the good work, Grace\n",
      "Keep up the good work, Naveen\n",
      "Keep up the good work, Gulafshan\n",
      "Keep up the good work, Sameer\n",
      "Keep up the good work, Farhana\n",
      "Keep up the good work, Keerthi\n"
     ]
    }
   ],
   "source": [
    "for x in students:\n",
    "    print(f\"Keep up the good work, {x.title()}\")"
   ]
  },
  {
   "cell_type": "code",
   "execution_count": 22,
   "id": "2943e8cc",
   "metadata": {},
   "outputs": [
    {
     "name": "stdout",
     "output_type": "stream",
     "text": [
      "keep up the good work, Ravi\n",
      "Please continue the same, Ravi.\n",
      "\n",
      "keep up the good work, Grace\n",
      "Please continue the same, Grace.\n",
      "\n",
      "keep up the good work, Naveen\n",
      "Please continue the same, Naveen.\n",
      "\n",
      "keep up the good work, Gulafshan\n",
      "Please continue the same, Gulafshan.\n",
      "\n",
      "keep up the good work, Sameer\n",
      "Please continue the same, Sameer.\n",
      "\n",
      "keep up the good work, Farhana\n",
      "Please continue the same, Farhana.\n",
      "\n",
      "keep up the good work, Keerthi\n",
      "Please continue the same, Keerthi.\n",
      "\n",
      "Thank you all for attending the session.\n"
     ]
    }
   ],
   "source": [
    "for a in students:\n",
    "    print (f\"keep up the good work, {a.title()}\")                 #in the loop\n",
    "    print(f\"Please continue the same, {a.title()}.\\n\")            #in the loop\n",
    "print('Thank you all for attending the session.')                 # out of the loop"
   ]
  },
  {
   "cell_type": "code",
   "execution_count": null,
   "id": "d3ef97a1",
   "metadata": {},
   "outputs": [],
   "source": []
  },
  {
   "cell_type": "code",
   "execution_count": 23,
   "id": "9b18997a",
   "metadata": {},
   "outputs": [],
   "source": [
    "#Introduction of slicing of list"
   ]
  },
  {
   "cell_type": "code",
   "execution_count": null,
   "id": "f59ad621",
   "metadata": {},
   "outputs": [],
   "source": [
    "# general syntax of slicing\n",
    "variable(startvalue:stopvalue:stepcount"
   ]
  },
  {
   "cell_type": "code",
   "execution_count": 24,
   "id": "aa2071b7",
   "metadata": {},
   "outputs": [],
   "source": [
    "#       Note: Last value is always exclusive"
   ]
  },
  {
   "cell_type": "code",
   "execution_count": 25,
   "id": "8f72ec86",
   "metadata": {},
   "outputs": [
    {
     "name": "stdout",
     "output_type": "stream",
     "text": [
      "['ravi']\n"
     ]
    }
   ],
   "source": [
    "print(students [0:1])"
   ]
  },
  {
   "cell_type": "code",
   "execution_count": 27,
   "id": "b1436936",
   "metadata": {},
   "outputs": [
    {
     "name": "stdout",
     "output_type": "stream",
     "text": [
      "['ravi', 'grace', 'naveen', 'gulafshan', 'sameer', 'farhana']\n"
     ]
    }
   ],
   "source": [
    "print (students[0:6])"
   ]
  },
  {
   "cell_type": "code",
   "execution_count": 38,
   "id": "f77acd4a",
   "metadata": {},
   "outputs": [
    {
     "name": "stdout",
     "output_type": "stream",
     "text": [
      "['ravi', 'naveen', 'sameer']\n"
     ]
    }
   ],
   "source": [
    "print (students[0:5:2])"
   ]
  },
  {
   "cell_type": "code",
   "execution_count": 37,
   "id": "4554d36a",
   "metadata": {},
   "outputs": [
    {
     "name": "stdout",
     "output_type": "stream",
     "text": [
      "['ravi', 'gulafshan', 'keerthi']\n"
     ]
    }
   ],
   "source": [
    "print (students[0:7:3])"
   ]
  },
  {
   "cell_type": "code",
   "execution_count": null,
   "id": "cebf86fc",
   "metadata": {},
   "outputs": [],
   "source": []
  }
 ],
 "metadata": {
  "kernelspec": {
   "display_name": "Python 3",
   "language": "python",
   "name": "python3"
  },
  "language_info": {
   "codemirror_mode": {
    "name": "ipython",
    "version": 3
   },
   "file_extension": ".py",
   "mimetype": "text/x-python",
   "name": "python",
   "nbconvert_exporter": "python",
   "pygments_lexer": "ipython3",
   "version": "3.8.8"
  }
 },
 "nbformat": 4,
 "nbformat_minor": 5
}
