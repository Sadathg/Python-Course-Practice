{
 "cells": [
  {
   "cell_type": "code",
   "execution_count": null,
   "id": "d640ae1b",
   "metadata": {},
   "outputs": [],
   "source": [
    "User accepted input:\n",
    " \n",
    "input is a keyword that we have to use it for accepting the inputs to the user\n",
    "\n",
    "for ex: \n",
    "    \n"
   ]
  },
  {
   "cell_type": "code",
   "execution_count": 1,
   "id": "9ec4d676",
   "metadata": {},
   "outputs": [
    {
     "name": "stdout",
     "output_type": "stream",
     "text": [
      "tell me something I will repeat back to youHello\n",
      "Hello\n"
     ]
    }
   ],
   "source": [
    "message = input('tell me something I will repeat back to you')\n",
    "print(message)"
   ]
  },
  {
   "cell_type": "code",
   "execution_count": 2,
   "id": "0d903d3a",
   "metadata": {},
   "outputs": [],
   "source": [
    "prompt='Tell me something, We can modify the message for you'"
   ]
  },
  {
   "cell_type": "code",
   "execution_count": 4,
   "id": "a76a3277",
   "metadata": {},
   "outputs": [
    {
     "name": "stdout",
     "output_type": "stream",
     "text": [
      "Tell me something, We can modify the message for youvrnkat\n",
      " Hello, vrnkat\n"
     ]
    }
   ],
   "source": [
    "name = input(prompt)\n",
    "print(f\" Hello, {name}\")"
   ]
  },
  {
   "cell_type": "code",
   "execution_count": null,
   "id": "3e0c227e",
   "metadata": {},
   "outputs": [],
   "source": [
    "input function always accept the input in the string format"
   ]
  },
  {
   "cell_type": "code",
   "execution_count": null,
   "id": "5898631b",
   "metadata": {},
   "outputs": [],
   "source": [
    "Note: "
   ]
  },
  {
   "cell_type": "code",
   "execution_count": 7,
   "id": "1ba2be5b",
   "metadata": {},
   "outputs": [
    {
     "name": "stdout",
     "output_type": "stream",
     "text": [
      "how old are you28\n",
      "28\n"
     ]
    }
   ],
   "source": [
    "age=input('how old are you')\n",
    "print(age)"
   ]
  },
  {
   "cell_type": "code",
   "execution_count": 5,
   "id": "65dbf1f3",
   "metadata": {},
   "outputs": [
    {
     "ename": "NameError",
     "evalue": "name 'age' is not defined",
     "output_type": "error",
     "traceback": [
      "\u001b[1;31m---------------------------------------------------------------------------\u001b[0m",
      "\u001b[1;31mNameError\u001b[0m                                 Traceback (most recent call last)",
      "\u001b[1;32m<ipython-input-5-7da0d923064a>\u001b[0m in \u001b[0;36m<module>\u001b[1;34m\u001b[0m\n\u001b[1;32m----> 1\u001b[1;33m \u001b[0mage\u001b[0m\u001b[1;33m>\u001b[0m\u001b[1;36m18\u001b[0m\u001b[1;33m\u001b[0m\u001b[1;33m\u001b[0m\u001b[0m\n\u001b[0m",
      "\u001b[1;31mNameError\u001b[0m: name 'age' is not defined"
     ]
    }
   ],
   "source": [
    "age>18"
   ]
  },
  {
   "cell_type": "code",
   "execution_count": 8,
   "id": "30976cc9",
   "metadata": {},
   "outputs": [
    {
     "data": {
      "text/plain": [
       "str"
      ]
     },
     "execution_count": 8,
     "metadata": {},
     "output_type": "execute_result"
    }
   ],
   "source": [
    "type(age)"
   ]
  },
  {
   "cell_type": "code",
   "execution_count": null,
   "id": "2038ab17",
   "metadata": {},
   "outputs": [],
   "source": [
    "type casting of datatypes\n",
    "\n",
    "Converting the data from one form to another form.\n",
    "\n"
   ]
  },
  {
   "cell_type": "code",
   "execution_count": 11,
   "id": "191f54e7",
   "metadata": {},
   "outputs": [
    {
     "name": "stdout",
     "output_type": "stream",
     "text": [
      "How old areyouput24\n"
     ]
    }
   ],
   "source": [
    "age=input('How old areyouput')\n",
    "age=int(age)                # casting of the data type===> Manually converting str to int"
   ]
  },
  {
   "cell_type": "code",
   "execution_count": 12,
   "id": "e4cce89e",
   "metadata": {},
   "outputs": [
    {
     "data": {
      "text/plain": [
       "False"
      ]
     },
     "execution_count": 12,
     "metadata": {},
     "output_type": "execute_result"
    }
   ],
   "source": [
    "age>28"
   ]
  },
  {
   "cell_type": "code",
   "execution_count": null,
   "id": "fd29856b",
   "metadata": {},
   "outputs": [],
   "source": [
    "#Building a simple voting application\n",
    "\n",
    "\n",
    "#conditional statements\n",
    "\n",
    "# Given an users age our program should tell whether the candidate is eligible or not"
   ]
  },
  {
   "cell_type": "code",
   "execution_count": 13,
   "id": "70a93881",
   "metadata": {},
   "outputs": [
    {
     "name": "stdout",
     "output_type": "stream",
     "text": [
      "Please enter your age17\n",
      "Try next year\n"
     ]
    }
   ],
   "source": [
    "age = input('Please enter your age')\n",
    "age=int(age)\n",
    "\n",
    "if age>=18:\n",
    "    print('You are Eligible to Vote')\n",
    "else:\n",
    "    print('Try next year')"
   ]
  },
  {
   "cell_type": "code",
   "execution_count": 14,
   "id": "5f2e914d",
   "metadata": {},
   "outputs": [
    {
     "name": "stdout",
     "output_type": "stream",
     "text": [
      "Please enter your age34\n",
      "You are eligible to Vote\n"
     ]
    }
   ],
   "source": [
    "age = input('Please enter your age')\n",
    "age=int(age)\n",
    "\n",
    "if age>=18:\n",
    "    print('You are eligible to Vote')\n",
    "else:\n",
    "    print('Try next year')"
   ]
  },
  {
   "cell_type": "code",
   "execution_count": 15,
   "id": "f81dd2ac",
   "metadata": {},
   "outputs": [
    {
     "name": "stdout",
     "output_type": "stream",
     "text": [
      "Please enter your age18\n",
      "You are eligible to Vote\n"
     ]
    }
   ],
   "source": [
    "age = input('Please enter your age')\n",
    "age=int(age)\n",
    "\n",
    "if age>=18:\n",
    "    print('You are eligible to Vote')\n",
    "else:\n",
    "    print('Try next year')"
   ]
  },
  {
   "cell_type": "code",
   "execution_count": null,
   "id": "cc0f9cd8",
   "metadata": {},
   "outputs": [],
   "source": []
  },
  {
   "cell_type": "code",
   "execution_count": null,
   "id": "c22e4195",
   "metadata": {},
   "outputs": [],
   "source": [
    "Understanding of modulo operator\n",
    "%\n",
    "it shows the reminder"
   ]
  },
  {
   "cell_type": "code",
   "execution_count": 17,
   "id": "32b5008f",
   "metadata": {},
   "outputs": [
    {
     "data": {
      "text/plain": [
       "2"
      ]
     },
     "execution_count": 17,
     "metadata": {},
     "output_type": "execute_result"
    }
   ],
   "source": [
    "5%3"
   ]
  },
  {
   "cell_type": "markdown",
   "id": "027523b0",
   "metadata": {},
   "source": [
    "4%2"
   ]
  },
  {
   "cell_type": "code",
   "execution_count": 18,
   "id": "9dc11782",
   "metadata": {},
   "outputs": [
    {
     "data": {
      "text/plain": [
       "0"
      ]
     },
     "execution_count": 18,
     "metadata": {},
     "output_type": "execute_result"
    }
   ],
   "source": [
    "4%2"
   ]
  },
  {
   "cell_type": "code",
   "execution_count": 19,
   "id": "b8e3e9e6",
   "metadata": {},
   "outputs": [],
   "source": [
    "## Que rrq: Whether the number is even or odd"
   ]
  },
  {
   "cell_type": "code",
   "execution_count": 20,
   "id": "c12f8404",
   "metadata": {},
   "outputs": [
    {
     "name": "stdout",
     "output_type": "stream",
     "text": [
      "Enter the Number23\n",
      "\n",
      " The number 23 is odd\n"
     ]
    }
   ],
   "source": [
    "number= input('Enter the Number')\n",
    "number=int(number)\n",
    "if number%2==0:\n",
    "    print(f\"\\n The number {number} is even\")\n",
    "else:\n",
    "    print(f\"\\n The number {number} is odd\")"
   ]
  },
  {
   "cell_type": "code",
   "execution_count": 21,
   "id": "0af4d7f1",
   "metadata": {},
   "outputs": [
    {
     "name": "stdout",
     "output_type": "stream",
     "text": [
      "Enter the Number344\n",
      "\n",
      " The number 344 is even\n"
     ]
    }
   ],
   "source": [
    "number= input('Enter the Number')\n",
    "number=int(number)\n",
    "if number%2==0:\n",
    "    print(f\"\\n The number {number} is even\")\n",
    "else:\n",
    "    print(f\"\\n The number {number} is odd\")\n"
   ]
  },
  {
   "cell_type": "code",
   "execution_count": null,
   "id": "02afd071",
   "metadata": {},
   "outputs": [],
   "source": []
  },
  {
   "cell_type": "code",
   "execution_count": 22,
   "id": "1b255c05",
   "metadata": {},
   "outputs": [
    {
     "name": "stdout",
     "output_type": "stream",
     "text": [
      "1\n",
      "2\n",
      "3\n",
      "4\n",
      "5\n"
     ]
    }
   ],
   "source": [
    "# Introduction to while loops\n",
    "\n",
    "current_number=1\n",
    "\n",
    "while current_number<=5:    # this is the condition to be validated\n",
    "    print(current_number)\n",
    "    current_number+=1   #current_number +1=1+1 = 2+1 = ...5+1 = 6"
   ]
  },
  {
   "cell_type": "code",
   "execution_count": null,
   "id": "1287785c",
   "metadata": {},
   "outputs": [],
   "source": []
  },
  {
   "cell_type": "code",
   "execution_count": null,
   "id": "00c18a74",
   "metadata": {},
   "outputs": [],
   "source": []
  }
 ],
 "metadata": {
  "kernelspec": {
   "display_name": "Python 3",
   "language": "python",
   "name": "python3"
  },
  "language_info": {
   "codemirror_mode": {
    "name": "ipython",
    "version": 3
   },
   "file_extension": ".py",
   "mimetype": "text/x-python",
   "name": "python",
   "nbconvert_exporter": "python",
   "pygments_lexer": "ipython3",
   "version": "3.8.8"
  }
 },
 "nbformat": 4,
 "nbformat_minor": 5
}
