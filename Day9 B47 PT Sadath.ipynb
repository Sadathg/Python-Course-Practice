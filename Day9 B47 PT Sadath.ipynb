{
 "cells": [
  {
   "cell_type": "code",
   "execution_count": null,
   "id": "e9287dd3",
   "metadata": {},
   "outputs": [],
   "source": [
    "Dictionary continuation :\n",
    "    Recap ==============> {}=======>Muteable datatype\n",
    "    combination of {'key':'value'} pairs"
   ]
  },
  {
   "cell_type": "code",
   "execution_count": 1,
   "id": "72c97a61",
   "metadata": {},
   "outputs": [],
   "source": [
    "user = {'username':'codetraining01','firstname':'code','lastname':'training01','dob':'01-01-2019', 'pwd':'54321'}"
   ]
  },
  {
   "cell_type": "code",
   "execution_count": 5,
   "id": "b0e91f5c",
   "metadata": {},
   "outputs": [],
   "source": [
    "# How to add the dictionaries\n",
    "\n",
    "# 'location':'The park Hotel'\n",
    "user['location']='The Park Hotel'"
   ]
  },
  {
   "cell_type": "code",
   "execution_count": 7,
   "id": "2c15c5d8",
   "metadata": {},
   "outputs": [],
   "source": [
    "user['fname']='creative'"
   ]
  },
  {
   "cell_type": "code",
   "execution_count": 8,
   "id": "4e2d5971",
   "metadata": {},
   "outputs": [
    {
     "name": "stdout",
     "output_type": "stream",
     "text": [
      "{'username': 'codetraining01', 'firstname': 'code', 'lastname': 'training01', 'dob': '01-01-2019', 'pwd': '54321', 'location': 'The Park Hotel', 'frame': 'creative', 'fname': 'creative'}\n"
     ]
    }
   ],
   "source": [
    "print(user)"
   ]
  },
  {
   "cell_type": "code",
   "execution_count": 10,
   "id": "72c97c28",
   "metadata": {},
   "outputs": [],
   "source": [
    "user['firstname']='Python code'  # modifying key value pairs"
   ]
  },
  {
   "cell_type": "code",
   "execution_count": 11,
   "id": "f730f208",
   "metadata": {},
   "outputs": [
    {
     "name": "stdout",
     "output_type": "stream",
     "text": [
      "{'username': 'codetraining01', 'firstname': 'Python code', 'lastname': 'training01', 'dob': '01-01-2019', 'pwd': '54321', 'location': 'The Park Hotel', 'frame': 'creative', 'fname': 'creative'}\n"
     ]
    }
   ],
   "source": [
    "print(user)"
   ]
  },
  {
   "cell_type": "code",
   "execution_count": null,
   "id": "18f47dd6",
   "metadata": {},
   "outputs": [],
   "source": [
    "# deleting key value pairs\n"
   ]
  },
  {
   "cell_type": "code",
   "execution_count": 14,
   "id": "d7ae785c",
   "metadata": {},
   "outputs": [],
   "source": [
    "del user['frame']"
   ]
  },
  {
   "cell_type": "code",
   "execution_count": 15,
   "id": "4f3da459",
   "metadata": {},
   "outputs": [
    {
     "name": "stdout",
     "output_type": "stream",
     "text": [
      "{'username': 'codetraining01', 'firstname': 'Python code', 'lastname': 'training01', 'dob': '01-01-2019', 'pwd': '54321', 'location': 'The Park Hotel', 'fname': 'creative'}\n"
     ]
    }
   ],
   "source": [
    "print(user)"
   ]
  },
  {
   "cell_type": "code",
   "execution_count": 16,
   "id": "6b3b26ed",
   "metadata": {},
   "outputs": [],
   "source": [
    "del user['fname']"
   ]
  },
  {
   "cell_type": "code",
   "execution_count": 17,
   "id": "e5772467",
   "metadata": {},
   "outputs": [
    {
     "name": "stdout",
     "output_type": "stream",
     "text": [
      "{'username': 'codetraining01', 'firstname': 'Python code', 'lastname': 'training01', 'dob': '01-01-2019', 'pwd': '54321', 'location': 'The Park Hotel'}\n"
     ]
    }
   ],
   "source": [
    "print(user)"
   ]
  },
  {
   "cell_type": "code",
   "execution_count": null,
   "id": "5f303a19",
   "metadata": {},
   "outputs": [],
   "source": []
  }
 ],
 "metadata": {
  "kernelspec": {
   "display_name": "Python 3",
   "language": "python",
   "name": "python3"
  },
  "language_info": {
   "codemirror_mode": {
    "name": "ipython",
    "version": 3
   },
   "file_extension": ".py",
   "mimetype": "text/x-python",
   "name": "python",
   "nbconvert_exporter": "python",
   "pygments_lexer": "ipython3",
   "version": "3.8.8"
  }
 },
 "nbformat": 4,
 "nbformat_minor": 5
}
